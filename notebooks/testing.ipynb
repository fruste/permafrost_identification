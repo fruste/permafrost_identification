{
 "cells": [
  {
   "cell_type": "code",
   "execution_count": 1,
   "id": "7ee3dea5",
   "metadata": {},
   "outputs": [
    {
     "name": "stderr",
     "output_type": "stream",
     "text": [
      "/anaconda/envs/perma/lib/python3.10/site-packages/tqdm/auto.py:22: TqdmWarning: IProgress not found. Please update jupyter and ipywidgets. See https://ipywidgets.readthedocs.io/en/stable/user_install.html\n",
      "  from .autonotebook import tqdm as notebook_tqdm\n"
     ]
    },
    {
     "data": {
      "text/plain": [
       "Reusing TensorBoard on port 6006 (pid 476893), started 2 days, 17:26:58 ago. (Use '!kill 476893' to kill it.)"
      ]
     },
     "metadata": {},
     "output_type": "display_data"
    },
    {
     "data": {
      "text/html": [
       "\n",
       "      <iframe id=\"tensorboard-frame-340bf9c3715eeb4b\" width=\"100%\" height=\"800\" frameborder=\"0\">\n",
       "      </iframe>\n",
       "      <script>\n",
       "        (function() {\n",
       "          const frame = document.getElementById(\"tensorboard-frame-340bf9c3715eeb4b\");\n",
       "          const url = new URL(\"/\", window.location);\n",
       "          const port = 6006;\n",
       "          if (port) {\n",
       "            url.port = port;\n",
       "          }\n",
       "          frame.src = url;\n",
       "        })();\n",
       "      </script>\n",
       "    "
      ],
      "text/plain": [
       "<IPython.core.display.HTML object>"
      ]
     },
     "metadata": {},
     "output_type": "display_data"
    }
   ],
   "source": [
    "import torch\n",
    "import rasterio\n",
    "import numpy as np\n",
    "from tqdm import tqdm\n",
    "from torch.utils.data import DataLoader\n",
    "from torch.optim import SGD, Adam\n",
    "from torch.nn import BCELoss\n",
    "from unet_model import UNet\n",
    "from torchgeo.samplers import RandomBatchGeoSampler\n",
    "from torchgeo.datasets import Sentinel2, stack_samples\n",
    "from torch.utils.tensorboard import SummaryWriter\n",
    "from RasterDataset import RasterDataset\n",
    "from torchmetrics.functional import precision_recall\n",
    "from sklearn.utils import class_weight \n",
    "import matplotlib.pyplot as plt\n",
    "from typing import Dict, List\n",
    "from torch import nn\n",
    "%load_ext tensorboard\n",
    "%tensorboard --logdir=runs --port=6006"
   ]
  },
  {
   "cell_type": "code",
   "execution_count": 2,
   "id": "4a712bb5",
   "metadata": {},
   "outputs": [],
   "source": [
    "class MinMaxNormalize(nn.Module):\n",
    "    \"\"\"Normalize channels to the range [0, 1] using min/max values.\"\"\"\n",
    "\n",
    "    def __init__(self, min: List[float], max: List[float]) -> None:\n",
    "        super().__init__()\n",
    "        self.min = torch.tensor(min)[:, None, None]\n",
    "        self.max = torch.tensor(max)[:, None, None]\n",
    "        self.denominator = self.max - self.min\n",
    "\n",
    "    def forward(self, inputs: torch.Tensor) -> torch.Tensor:\n",
    "        x = inputs\n",
    "        # Batch\n",
    "        if x.ndim == 4:\n",
    "            x = (x - self.min[None, ...]) / self.denominator[None, ...]\n",
    "        # Sample\n",
    "        else:\n",
    "            x = (x - self.min) / self.denominator\n",
    "\n",
    "        inputs = x.clamp(0, 1)\n",
    "        return inputs"
   ]
  },
  {
   "cell_type": "code",
   "execution_count": 9,
   "id": "31739a3c",
   "metadata": {},
   "outputs": [],
   "source": [
    "torch.cuda.empty_cache()\n",
    "# load model\n",
    "model_name = 'herschel_unvalidated'\n",
    "model_path = '../models/' + model_name\n",
    "\n",
    "model = UNet(n_channels =7, n_classes=1)\n",
    "model.load_state_dict(torch.load(model_path))\n",
    "\n",
    "min_values = [0.0, 0.0, 0.0, 0.0, 0.0, 0.0, 0.0]\n",
    "max_values = [33.0, 456.0, 12472.0, 12112.0, 11816.0, 12208.0, 3537.0]\n",
    "\n",
    "transforms = torch.nn.Sequential(\n",
    "    MinMaxNormalize(min_values, max_values)\n",
    "        )\n",
    "\n",
    "test_site = '../chopped_data/herschel'\n",
    "test= RasterDataset(root_list=[test_site, test_site + '_val'])\n",
    "sampler = RandomBatchGeoSampler(test, size=64, length=500, batch_size=32)\n",
    "test_dataloader = DataLoader(test, num_workers = 6, batch_sampler=sampler, collate_fn=stack_samples)"
   ]
  },
  {
   "cell_type": "code",
   "execution_count": 10,
   "id": "b119b401",
   "metadata": {},
   "outputs": [],
   "source": [
    "def f1_score(precision, recall):\n",
    "    return (2 * (precision * recall) / (precision + recall))"
   ]
  },
  {
   "cell_type": "code",
   "execution_count": 13,
   "id": "f38c03c7",
   "metadata": {},
   "outputs": [
    {
     "name": "stderr",
     "output_type": "stream",
     "text": [
      "\r",
      "  0%|                                                                                            | 0/15 [00:00<?, ?it/s]"
     ]
    },
    {
     "data": {
      "image/png": "[encoded data removed]",
      "text/plain": [
       "<Figure size 432x288 with 1 Axes>"
      ]
     },
     "metadata": {
      "needs_background": "light"
     },
     "output_type": "display_data"
    },
    {
     "data": {
      "image/png": "[encoded data removed]",
      "text/plain": [
       "<Figure size 432x288 with 1 Axes>"
      ]
     },
     "metadata": {
      "needs_background": "light"
     },
     "output_type": "display_data"
    },
    {
     "name": "stderr",
     "output_type": "stream",
     "text": [
      "\r",
      "  0%|                                                                                            | 0/15 [00:05<?, ?it/s]"
     ]
    },
    {
     "name": "stdout",
     "output_type": "stream",
     "text": [
      "tensor([[[6.4912e-02, 2.8484e-02, 7.6972e-03],\n",
      "         [5.9157e-02, 2.7081e-02, 6.8954e-03],\n",
      "         [6.2204e-02, 3.0796e-02, 4.8910e-03],\n",
      "         ...,\n",
      "         [3.4868e-02, 1.7008e-02, 8.0180e-05],\n",
      "         [3.2414e-02, 1.1641e-02, 8.0180e-05],\n",
      "         [2.8097e-02, 5.3666e-03, 8.0180e-05]],\n",
      "\n",
      "        [[6.0934e-02, 2.7741e-02, 2.5657e-03],\n",
      "         [5.9326e-02, 2.5347e-02, 6.0135e-03],\n",
      "         [6.0173e-02, 2.7741e-02, 1.1867e-02],\n",
      "         ...,\n",
      "         [3.7576e-02, 1.9320e-02, 8.0180e-05],\n",
      "         [3.1313e-02, 1.1641e-02, 8.0180e-05],\n",
      "         [2.9452e-02, 8.2563e-03, 8.0180e-05]],\n",
      "\n",
      "        [[6.1273e-02, 2.5925e-02, 3.0468e-03],\n",
      "         [6.1950e-02, 2.7741e-02, 5.1315e-03],\n",
      "         [6.1781e-02, 2.9145e-02, 1.0504e-02],\n",
      "         ...,\n",
      "         [4.7478e-02, 2.3943e-02, 8.0180e-05],\n",
      "         [3.7068e-02, 1.4779e-02, 3.2072e-04],\n",
      "         [3.7661e-02, 1.7668e-02, 5.4522e-03]],\n",
      "\n",
      "        ...,\n",
      "\n",
      "        [[6.5081e-02, 3.3108e-02, 1.5234e-02],\n",
      "         [5.8480e-02, 3.1044e-02, 1.0022e-02],\n",
      "         [3.5122e-02, 1.9650e-02, 8.0180e-05],\n",
      "         ...,\n",
      "         [5.7972e-02, 3.3686e-02, 1.5876e-02],\n",
      "         [6.0003e-02, 3.2530e-02, 1.6918e-02],\n",
      "         [5.4756e-02, 2.7411e-02, 1.5555e-02]],\n",
      "\n",
      "        [[6.5166e-02, 3.0961e-02, 1.0744e-02],\n",
      "         [6.5589e-02, 3.1869e-02, 1.5876e-02],\n",
      "         [6.2288e-02, 4.5905e-02, 1.7158e-02],\n",
      "         ...,\n",
      "         [6.0850e-02, 3.7236e-02, 2.0205e-02],\n",
      "         [6.0088e-02, 3.8970e-02, 2.1408e-02],\n",
      "         [5.6110e-02, 3.2530e-02, 1.8361e-02]],\n",
      "\n",
      "        [[5.7803e-02, 2.7081e-02, 6.3342e-03],\n",
      "         [5.3233e-02, 2.4356e-02, 3.2874e-03],\n",
      "         [5.8819e-02, 2.8402e-02, 1.0183e-02],\n",
      "         ...,\n",
      "         [5.6449e-02, 3.5419e-02, 2.0205e-02],\n",
      "         [5.4502e-02, 3.5585e-02, 1.5715e-02],\n",
      "         [5.3487e-02, 2.7659e-02, 8.8999e-03]]])\n"
     ]
    },
    {
     "name": "stderr",
     "output_type": "stream",
     "text": [
      "\n"
     ]
    },
    {
     "ename": "AttributeError",
     "evalue": "'Tensor' object has no attribute 'astype'",
     "output_type": "error",
     "traceback": [
      "\u001b[0;31m---------------------------------------------------------------------------\u001b[0m",
      "\u001b[0;31mAttributeError\u001b[0m                            Traceback (most recent call last)",
      "Input \u001b[0;32mIn [13]\u001b[0m, in \u001b[0;36m<cell line: 1>\u001b[0;34m()\u001b[0m\n\u001b[1;32m     23\u001b[0m rgb \u001b[38;5;241m=\u001b[39m torch\u001b[38;5;241m.\u001b[39mstack((red, green, blue), dim\u001b[38;5;241m=\u001b[39m\u001b[38;5;241m2\u001b[39m)\n\u001b[1;32m     24\u001b[0m \u001b[38;5;28mprint\u001b[39m(rgb)\n\u001b[0;32m---> 25\u001b[0m plt\u001b[38;5;241m.\u001b[39mimshow(\u001b[43mrgb\u001b[49m\u001b[38;5;241;43m.\u001b[39;49m\u001b[43mastype\u001b[49m(np\u001b[38;5;241m.\u001b[39mfloat64))\n\u001b[1;32m     26\u001b[0m plt\u001b[38;5;241m.\u001b[39mshow()\n\u001b[1;32m     27\u001b[0m \u001b[38;5;28;01massert\u001b[39;00m \u001b[38;5;241m0\u001b[39m\n",
      "\u001b[0;31mAttributeError\u001b[0m: 'Tensor' object has no attribute 'astype'"
     ]
    }
   ],
   "source": [
    "with torch.no_grad():\n",
    "    total_precision = 0\n",
    "    total_recall = 0\n",
    "    total_f1 = 0\n",
    "    for i, test_sample in enumerate(tqdm(test_dataloader)):\n",
    "        test_data = test_sample[\"image\"]\n",
    "        test_labels = test_data[:,0,:,:]\n",
    "        test_img = test_data[:,1:,:,:]\n",
    "        test_img = transforms(test_img)\n",
    "                \n",
    "        test_pred = model(test_img.float())\n",
    "        \n",
    "        # plotting\n",
    "#         plt.imshow(test_pred[0][0])\n",
    "#         plt.title('Prediction: ' + str(i))\n",
    "#         plt.show()\n",
    "#         plt.imshow(test_labels[0])\n",
    "#         plt.title('Ground truth: ' + str(i))\n",
    "#         plt.show()\n",
    "        \n",
    "#         red = test_img[1,4,:,:]\n",
    "#         green = test_img[1,3,:,:]\n",
    "#         blue = test_img[1,2,:,:]\n",
    "#         rgb = torch.stack((red, green, blue), dim=2)\n",
    "#         print(rgb)\n",
    "#         plt.imshow(rgb.astype(np.float64))\n",
    "#         plt.show()\n",
    "#         assert 0\n",
    "        precision, recall = precision_recall(test_pred, test_labels)\n",
    "        total_precision += precision\n",
    "        total_recall += recall\n",
    "        \n",
    "        f1 = f1_score(precision, recall)\n",
    "        total_f1 += f1\n",
    "    print(\"Recall\", total_recall / len(test_dataloader))\n",
    "    print(\"Precision\", total_precision / len(test_dataloader))\n",
    "    print(\"F1\", total_f1 / len(test_dataloader))"
   ]
  },
  {
   "cell_type": "code",
   "execution_count": null,
   "id": "561f504a",
   "metadata": {},
   "outputs": [],
   "source": []
  }
 ],
 "metadata": {
  "kernelspec": {
   "display_name": "Python 3 (ipykernel)",
   "language": "python",
   "name": "python3"
  },
  "language_info": {
   "codemirror_mode": {
    "name": "ipython",
    "version": 3
   },
   "file_extension": ".py",
   "mimetype": "text/x-python",
   "name": "python",
   "nbconvert_exporter": "python",
   "pygments_lexer": "ipython3",
   "version": "3.10.5"
  }
 },
 "nbformat": 4,
 "nbformat_minor": 5
}
