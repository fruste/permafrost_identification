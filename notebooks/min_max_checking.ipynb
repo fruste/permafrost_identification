{
 "cells": [
  {
   "cell_type": "code",
   "execution_count": 2,
   "id": "009e89bf",
   "metadata": {},
   "outputs": [],
   "source": [
    "import os\n",
    "import rasterio\n",
    "import numpy as np\n",
    "from shapely import geometry\n",
    "from rasterio.mask import mask"
   ]
  },
  {
   "cell_type": "code",
   "execution_count": 32,
   "id": "f0a50efd",
   "metadata": {},
   "outputs": [
    {
     "name": "stdout",
     "output_type": "stream",
     "text": [
      "['../chopped_data/herschel/Herschel_Herschel_Island_2018-09-20_datacube_2.tif', '../chopped_data/herschel/Herschel_Herschel_Island_2018-09-20_datacube_3.tif', '../chopped_data/herschel/Herschel_Herschel_Island_2019-09-02_datacube_2.tif', '../chopped_data/herschel/Herschel_Herschel_Island_2019-09-02_datacube_3.tif', '../chopped_data/herschel_val/Herschel_Herschel_Island_2019-06-21_datacube_2.tif', '../chopped_data/herschel_val/Herschel_Herschel_Island_2019-06-21_datacube_3.tif', '../chopped_data/horton/Horton_02_2019-07-28_datacube_0.tif', '../chopped_data/horton/Horton_01_2019-09-07_datacube_3.tif', '../chopped_data/horton/Horton_01_2019-09-07_datacube_1.tif', '../chopped_data/horton/Horton_01_2019-06-16_datacube_1.tif', '../chopped_data/horton/Horton_02_2019-06-23_datacube_0.tif', '../chopped_data/horton/Horton_01_2019-06-16_datacube_3.tif', '../chopped_data/horton/Horton_02_2019-09-07_datacube_0.tif', '../chopped_data/horton_val/Horton_01_2019-07-27_datacube_3.tif', '../chopped_data/horton_val/Horton_02_2019-07-27_datacube_0.tif', '../chopped_data/horton_val/Horton_01_2019-07-27_datacube_1.tif', '../chopped_data/kolguev/Kolguev_01_2019-09-07_datacube_0.tif', '../chopped_data/kolguev/Kolguev_01_2019-07-02_datacube_0.tif', '../chopped_data/kolguev/Kolguev_01_2018-07-07_datacube_0.tif', '../chopped_data/kolguev/Kolguev_01_2018-08-01_datacube_0.tif', '../chopped_data/kolguev_val/Kolguev_01_2019-08-13_datacube_0.tif', '../chopped_data/lena/Lena_01_2019-08-03_datacube_3.tif', '../chopped_data/lena/Lena_01_2019-07-19_datacube_1.tif', '../chopped_data/lena/Lena_01_2019-08-01_datacube_2.tif', '../chopped_data/lena/Lena_01_2019-08-28_datacube_2.tif', '../chopped_data/lena/Lena_01_2018-07-02_datacube_2.tif', '../chopped_data/lena/Lena_01_2019-07-27_datacube_2.tif', '../chopped_data/lena/Lena_01_2019-08-03_datacube_1.tif', '../chopped_data/lena/Lena_01_2018-08-28_datacube_3.tif', '../chopped_data/lena/Lena_01_2019-08-15_datacube_1.tif', '../chopped_data/lena/Lena_01_2019-07-22_datacube_1.tif', '../chopped_data/lena/Lena_01_2019-06-17_datacube_3.tif', '../chopped_data/lena/Lena_01_2019-07-27_datacube_3.tif', '../chopped_data/lena/Lena_01_2018-07-29_datacube_1.tif', '../chopped_data/lena/Lena_01_2019-07-19_datacube_2.tif', '../chopped_data/lena/Lena_01_2019-08-01_datacube_3.tif', '../chopped_data/lena/Lena_01_2019-07-27_datacube_1.tif', '../chopped_data/lena/Lena_01_2018-07-16_datacube_1.tif', '../chopped_data/lena/Lena_01_2018-07-16_datacube_3.tif', '../chopped_data/lena/Lena_01_2018-07-02_datacube_1.tif', '../chopped_data/lena/Lena_01_2018-08-28_datacube_2.tif', '../chopped_data/lena/Lena_01_2019-08-01_datacube_1.tif', '../chopped_data/lena/Lena_01_2019-07-19_datacube_3.tif', '../chopped_data/lena/Lena_01_2019-08-28_datacube_3.tif', '../chopped_data/lena/Lena_01_2019-06-06_datacube_3.tif', '../chopped_data/lena/Lena_01_2018-07-29_datacube_3.tif', '../chopped_data/lena/Lena_01_2019-08-28_datacube_1.tif', '../chopped_data/lena/Lena_01_2019-09-15_datacube_2.tif', '../chopped_data/lena/Lena_01_2018-07-14_datacube_1.tif', '../chopped_data/lena/Lena_01_2019-09-15_datacube_3.tif', '../chopped_data/lena/Lena_01_2019-06-17_datacube_2.tif', '../chopped_data/lena/Lena_01_2019-06-06_datacube_1.tif', '../chopped_data/lena/Lena_01_2019-08-15_datacube_3.tif', '../chopped_data/lena/Lena_01_2019-07-22_datacube_2.tif', '../chopped_data/lena/Lena_01_2018-07-16_datacube_2.tif', '../chopped_data/lena/Lena_01_2019-06-17_datacube_1.tif', '../chopped_data/lena/Lena_01_2018-07-29_datacube_2.tif', '../chopped_data/lena/Lena_01_2018-07-14_datacube_3.tif', '../chopped_data/lena/Lena_01_2018-07-02_datacube_3.tif', '../chopped_data/lena/Lena_01_2018-07-14_datacube_2.tif', '../chopped_data/lena/Lena_01_2019-07-22_datacube_3.tif', '../chopped_data/lena/Lena_01_2018-08-28_datacube_1.tif', '../chopped_data/lena/Lena_01_2019-09-15_datacube_1.tif', '../chopped_data/lena/Lena_01_2019-06-06_datacube_2.tif', '../chopped_data/lena/Lena_01_2019-08-15_datacube_2.tif', '../chopped_data/lena/Lena_01_2019-08-03_datacube_2.tif', '../chopped_data/lena_val/Lena_01_2018-07-27_datacube_3.tif', '../chopped_data/lena_val/Lena_01_2018-07-27_datacube_2.tif', '../chopped_data/lena_val/Lena_01_2018-07-27_datacube_1.tif', '../chopped_data/lena_val/Lena_01_2019-08-31_datacube_3.tif', '../chopped_data/lena_val/Lena_01_2019-06-24_datacube_3.tif', '../chopped_data/lena_val/Lena_01_2019-08-31_datacube_2.tif', '../chopped_data/lena_val/Lena_01_2019-06-24_datacube_1.tif', '../chopped_data/lena_val/Lena_01_2019-06-24_datacube_2.tif', '../chopped_data/lena_val/Lena_01_2019-08-31_datacube_1.tif', '../chopped_data/unvalidated/Verkhoyan_01_2019-07-23_datacube_1.tif', '../chopped_data/unvalidated/Peel_Plateau_01_2019-06-08_datacube_1.tif', '../chopped_data/unvalidated/Verkhoyan_01_2019-07-23_datacube_0.tif', '../chopped_data/unvalidated/Noatak_02_2019-08-18_datacube_1.tif', '../chopped_data/unvalidated/Verkhoyan_01_2019-07-31_datacube_0.tif', '../chopped_data/unvalidated/Verkhoyan_01_2019-09-29_datacube_1.tif', '../chopped_data/unvalidated/Noatak_02_2019-06-26_datacube_2.tif', '../chopped_data/unvalidated/Verkhoyan_01_2019-06-30_datacube_0.tif', '../chopped_data/unvalidated/Peel_Plateau_02_2019-06-07_datacube_1.tif', '../chopped_data/unvalidated/Verkhoyan_01_2019-07-16_datacube_0.tif', '../chopped_data/unvalidated/Noatak_02_2019-06-04_datacube_2.tif', '../chopped_data/unvalidated/Verkhoyan_01_2019-06-15_datacube_0.tif', '../chopped_data/unvalidated/Tuktoyuktuk_Peninsula_01_2019-06-28_datacube_1.tif', '../chopped_data/unvalidated/Verkhoyan_01_2019-07-31_datacube_1.tif', '../chopped_data/unvalidated/Tuktoyuktuk_Peninsula_01_2019-06-28_datacube_0.tif', '../chopped_data/unvalidated/Tuktoyuktuk_Peninsula_01_2019-06-10_datacube_1.tif', '../chopped_data/unvalidated/Verkhoyan_01_2019-06-30_datacube_1.tif', '../chopped_data/unvalidated/Verkhoyan_01_2019-06-15_datacube_1.tif', '../chopped_data/unvalidated/Verkhoyan_01_2019-08-04_datacube_1.tif', '../chopped_data/unvalidated/Verkhoyan_01_2019-07-16_datacube_1.tif', '../chopped_data/unvalidated/Peel_Plateau_02_2019-06-08_datacube_1.tif', '../chopped_data/unvalidated/Verkhoyan_01_2019-09-29_datacube_0.tif', '../chopped_data/unvalidated/Noatak_02_2019-07-07_datacube_2.tif', '../chopped_data/unvalidated/Noatak_02_2019-07-07_datacube_1.tif', '../chopped_data/unvalidated/Peel_Plateau_01_2019-06-08_datacube_3.tif', '../chopped_data/unvalidated/Noatak_02_2019-06-26_datacube_1.tif', '../chopped_data/unvalidated/Tuktoyuktuk_Peninsula_01_2019-07-25_datacube_0.tif', '../chopped_data/unvalidated/Noatak_02_2019-09-12_datacube_2.tif', '../chopped_data/unvalidated/Tuktoyuktuk_Peninsula_01_2019-07-25_datacube_1.tif', '../chopped_data/unvalidated/Noatak_02_2019-09-12_datacube_1.tif', '../chopped_data/unvalidated/Peel_Plateau_01_2019-06-18_datacube_3.tif', '../chopped_data/unvalidated/Tuktoyuktuk_Peninsula_01_2019-06-10_datacube_0.tif', '../chopped_data/unvalidated/Noatak_02_2019-06-04_datacube_1.tif', '../chopped_data/unvalidated/Peel_Plateau_01_2019-06-18_datacube_1.tif', '../chopped_data/unvalidated/Noatak_02_2019-08-18_datacube_2.tif', '../chopped_data/unvalidated/Verkhoyan_01_2019-08-04_datacube_0.tif']\n"
     ]
    }
   ],
   "source": [
    "all_sites = ['herschel', 'herschel_val', 'horton', 'horton_val', 'kolguev', 'kolguev_val', 'lena', 'lena_val', 'unvalidated']\n",
    "\n",
    "data_pathnames = []\n",
    "for site in all_sites:\n",
    "    for file in os.listdir('../chopped_data/' + site):\n",
    "        if file.endswith(\".tif\"):\n",
    "            data_pathnames.append(os.path.join('../chopped_data/' + site, file))\n",
    "print(data_pathnames)"
   ]
  },
  {
   "cell_type": "code",
   "execution_count": 4,
   "id": "7d8031c2",
   "metadata": {},
   "outputs": [
    {
     "ename": "NameError",
     "evalue": "name 'max_values' is not defined",
     "output_type": "error",
     "traceback": [
      "\u001b[0;31m---------------------------------------------------------------------------\u001b[0m",
      "\u001b[0;31mNameError\u001b[0m                                 Traceback (most recent call last)",
      "Input \u001b[0;32mIn [4]\u001b[0m, in \u001b[0;36m<cell line: 1>\u001b[0;34m()\u001b[0m\n\u001b[1;32m      5\u001b[0m max_val \u001b[38;5;241m=\u001b[39m band\u001b[38;5;241m.\u001b[39mmax()\n\u001b[1;32m      6\u001b[0m min_val \u001b[38;5;241m=\u001b[39m band\u001b[38;5;241m.\u001b[39mmin()\n\u001b[0;32m----> 7\u001b[0m \u001b[38;5;28;01mif\u001b[39;00m max_val \u001b[38;5;241m>\u001b[39m \u001b[43mmax_values\u001b[49m[i]:\n\u001b[1;32m      8\u001b[0m     max_values[i] \u001b[38;5;241m=\u001b[39m max_val\n\u001b[1;32m      9\u001b[0m \u001b[38;5;28;01mif\u001b[39;00m min_val \u001b[38;5;241m<\u001b[39m min_values[i]:\n",
      "\u001b[0;31mNameError\u001b[0m: name 'max_values' is not defined"
     ]
    }
   ],
   "source": [
    "min_values = np.ones(7) # ones instead of zeros to check if min values really are all zeros.\n",
    "max_values = np.zeros(7)\n",
    "\n",
    "for path in data_pathnames:\n",
    "    with rasterio.open(path, 'r') as src:\n",
    "        arr = src.read()\n",
    "        for i, band in enumerate(arr[1:, :, :]):\n",
    "            max_val = band.max()\n",
    "            min_val = band.min()\n",
    "            if max_val > max_values[i]:\n",
    "                max_values[i] = max_val\n",
    "            if min_val < min_values[i]:\n",
    "                min_values[i] = min_val\n",
    "            print(max_val)\n",
    "            \n",
    "print(max_values)\n",
    "print(min_values)"
   ]
  },
  {
   "cell_type": "code",
   "execution_count": 27,
   "id": "9764a82a",
   "metadata": {},
   "outputs": [
    {
     "name": "stdout",
     "output_type": "stream",
     "text": [
      "(7, 28614598)\n"
     ]
    }
   ],
   "source": [
    "# Creating big all_data array\n",
    "count = 0\n",
    "\n",
    "for path in data_pathnames:\n",
    "    with rasterio.open(path, 'r') as src:\n",
    "        arr = src.read()[1:, :, :]\n",
    "        if count == 0:\n",
    "            all_data = arr.reshape(arr.shape[0], arr.shape[1] * arr.shape[2])\n",
    "        else:\n",
    "            all_data = np.concatenate((all_data, arr.reshape(arr.shape[0], arr.shape[1] * arr.shape[2])), axis=1)\n",
    "        count+=1\n",
    "        \n",
    "print(all_data.shape)"
   ]
  },
  {
   "cell_type": "code",
   "execution_count": 13,
   "id": "cca30ee9",
   "metadata": {},
   "outputs": [],
   "source": [
    "# max values: [   33.   456. 12472. 12112. 11816. 12208.  3537.]\n",
    "# min values: [0. 0. 0. 0. 0. 0. 0.]"
   ]
  },
  {
   "cell_type": "code",
   "execution_count": 31,
   "id": "e32afb4c",
   "metadata": {},
   "outputs": [
    {
     "name": "stdout",
     "output_type": "stream",
     "text": [
      "[12.563786043752913, 117.29941220911088, 447.64719382044086, 595.8620172472806, 535.3712012658714, 1806.29808204889, 920.1094782110865]\n",
      "[3.5185324647403644, 80.96723830709035, 470.13904303313586, 464.48946732700625, 476.7811733893084, 1034.8480903358773, 387.2689357063178]\n"
     ]
    }
   ],
   "source": [
    "means = []\n",
    "stds = []\n",
    "\n",
    "for band in all_data:\n",
    "    means.append(band.mean())\n",
    "    stds.append(band.std())\n",
    "print(means)\n",
    "print(stds)\n",
    "# means = [12.563786043752913, 117.29941220911088, 447.64719382044086, 595.8620172472806, 535.3712012658714, 1806.29808204889, 920.1094782110865]\n",
    "# stds = [3.5185324647403644, 80.96723830709035, 470.13904303313586, 464.48946732700625, 476.7811733893084, 1034.8480903358773, 387.2689357063178]"
   ]
  },
  {
   "cell_type": "code",
   "execution_count": null,
   "id": "b6546c52",
   "metadata": {},
   "outputs": [],
   "source": []
  }
 ],
 "metadata": {
  "kernelspec": {
   "display_name": "Python 3 (ipykernel)",
   "language": "python",
   "name": "python3"
  },
  "language_info": {
   "codemirror_mode": {
    "name": "ipython",
    "version": 3
   },
   "file_extension": ".py",
   "mimetype": "text/x-python",
   "name": "python",
   "nbconvert_exporter": "python",
   "pygments_lexer": "ipython3",
   "version": "3.10.5"
  }
 },
 "nbformat": 4,
 "nbformat_minor": 5
}
