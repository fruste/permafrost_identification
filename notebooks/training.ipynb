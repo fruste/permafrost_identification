{
 "cells": [
  {
   "cell_type": "code",
   "execution_count": null,
   "id": "c849a2fd",
   "metadata": {},
   "outputs": [],
   "source": [
    "import torch\n",
    "import dataset\n",
    "from torch.utils.data import DataLoader\n",
    "from torch.optim import SGD\n",
    "from torch.nn import CrossEntropyLoss\n",
    "from unet_model import UNet"
   ]
  },
  {
   "cell_type": "code",
   "execution_count": 32,
   "id": "e3d79df1",
   "metadata": {},
   "outputs": [],
   "source": [
    "def experiment(test='herschel'):\n",
    "    test = dataset.Permafrost(['herschel'])"
   ]
  },
  {
   "cell_type": "code",
   "execution_count": 33,
   "id": "adb44abd",
   "metadata": {},
   "outputs": [],
   "source": [
    "learning_rate = 0.1\n",
    "\n",
    "dataloader = DataLoader(test, 4)\n",
    "model = UNet(n_channels =5, n_classes=2)\n",
    "optimizer = SGD(model.parameters(), learning_rate)"
   ]
  },
  {
   "cell_type": "code",
   "execution_count": null,
   "id": "42610a16",
   "metadata": {},
   "outputs": [],
   "source": [
    "for (data, labels) in dataloader:\n",
    "    data, labels = data.cuda(), labels.cuda()\n",
    "    pred = model(data)\n",
    "    loss = CrossEntropyLoss(pred, labels)\n",
    "    loss.backward()\n",
    "    optimizer.step()"
   ]
  },
  {
   "cell_type": "code",
   "execution_count": null,
   "id": "ab1b96d6",
   "metadata": {},
   "outputs": [],
   "source": []
  }
 ],
 "metadata": {
  "kernelspec": {
   "display_name": "Python 3 (ipykernel)",
   "language": "python",
   "name": "python3"
  },
  "language_info": {
   "codemirror_mode": {
    "name": "ipython",
    "version": 3
   },
   "file_extension": ".py",
   "mimetype": "text/x-python",
   "name": "python",
   "nbconvert_exporter": "python",
   "pygments_lexer": "ipython3",
   "version": "3.9.13"
  }
 },
 "nbformat": 4,
 "nbformat_minor": 5
}
