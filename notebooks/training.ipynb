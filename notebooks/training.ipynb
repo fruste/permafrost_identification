{
 "cells": [
  {
   "cell_type": "code",
   "execution_count": 28,
   "id": "c849a2fd",
   "metadata": {},
   "outputs": [
    {
     "name": "stdout",
     "output_type": "stream",
     "text": [
      "The tensorboard extension is already loaded. To reload it, use:\n",
      "  %reload_ext tensorboard\n"
     ]
    },
    {
     "data": {
      "text/plain": [
       "ERROR: Failed to launch TensorBoard (exited with 255).\n",
       "Contents of stderr:\n",
       "TensorFlow installation not found - running with reduced feature set.\n",
       "[2022-08-18T21:51:37Z ERROR rustboard_core::disk_logdir] While walking log directory: IO error for operation on runs2: No such file or directory (os error 2)\n",
       "\n",
       "NOTE: Using experimental fast data loading logic. To disable, pass\n",
       "    \"--load_fast=false\" and report issues on GitHub. More details:\n",
       "    https://github.com/tensorflow/tensorboard/issues/4784\n",
       "\n",
       "E0818 21:51:37.557521 140639171536704 program.py:298] TensorBoard could not bind to port 6006, it was already in use\n",
       "ERROR: TensorBoard could not bind to port 6006, it was already in use"
      ]
     },
     "metadata": {},
     "output_type": "display_data"
    }
   ],
   "source": [
    "import torch\n",
    "import rasterio\n",
    "import numpy as np\n",
    "from tqdm import tqdm\n",
    "from torch.utils.data import DataLoader\n",
    "from torch.optim import SGD, Adam\n",
    "from torch.nn import BCELoss\n",
    "from unet_model import UNet\n",
    "#from CustomSampler import RandomBatchGeoSampler\n",
    "from torchgeo.samplers import RandomBatchGeoSampler\n",
    "from torchgeo.datasets import Sentinel2, stack_samples\n",
    "from torch.utils.tensorboard import SummaryWriter\n",
    "from RasterDataset import RasterDataset\n",
    "from torchmetrics.functional import precision_recall\n",
    "from sklearn.utils import class_weight \n",
    "from torch import nn\n",
    "import kornia.augmentation as K\n",
    "from typing import Dict, List\n",
    "%load_ext tensorboard\n",
    "%tensorboard --logdir=runs2 --port=6006"
   ]
  },
  {
   "cell_type": "code",
   "execution_count": 45,
   "id": "5777e3fe",
   "metadata": {},
   "outputs": [],
   "source": [
    "class MinMaxScale(nn.Module):\n",
    "    \"\"\"Normalize channels to the range [0, 1] using min/max values.\"\"\"\n",
    "\n",
    "    def __init__(self, min: List[float], max: List[float]) -> None:\n",
    "        super().__init__()\n",
    "        self.min = torch.tensor(min)[:, None, None]\n",
    "        self.max = torch.tensor(max)[:, None, None]\n",
    "        self.denominator = self.max - self.min\n",
    "\n",
    "    def forward(self, inputs: torch.Tensor) -> torch.Tensor:\n",
    "        x = inputs\n",
    "        # Batch\n",
    "        if x.ndim == 4:\n",
    "            x = (x - self.min[None, ...]) / self.denominator[None, ...]\n",
    "        # Sample\n",
    "        else:\n",
    "            x = (x - self.min) / self.denominator\n",
    "\n",
    "        inputs = x.clamp(0, 1)\n",
    "        return inputs\n",
    "    \n",
    "class MinMaxClamp(nn.Module):\n",
    "    \"\"\"clamp channels to the range [0, 1] using min/max values.\"\"\"\n",
    "\n",
    "    def __init__(self, min: List[float], max: List[float]) -> None:\n",
    "        super().__init__()\n",
    "        self.min = torch.tensor(min)[:, None, None]\n",
    "        self.max = torch.tensor(max)[:, None, None]\n",
    "\n",
    "    def forward(self, inputs: torch.Tensor) -> torch.Tensor:\n",
    "        x = inputs\n",
    "        inputs = torch.clamp(x, self.min, self.max)\n",
    "        return inputs"
   ]
  },
  {
   "cell_type": "code",
   "execution_count": 56,
   "id": "adb44abd",
   "metadata": {},
   "outputs": [],
   "source": [
    "num_epochs = 100\n",
    "learning_rate = 0.001\n",
    "batch = 32\n",
    "\n",
    "test_site = '../chopped_data/herschel'\n",
    "training_sites = ['../chopped_data/herschel', '../chopped_data/horton', '../chopped_data/kolguev', '../chopped_data/lena']\n",
    "val_sites = ['../chopped_data/herschel_val', '../chopped_data/horton_val', '../chopped_data/kolguev_val', '../chopped_data/lena_val', '../chopped_data/unvalidated']\n",
    "\n",
    "training_sites.remove(test_site)\n",
    "val_sites.remove(test_site + '_val')\n",
    "\n",
    "min_values = [0.0, 0.0, 0.0, 0.0, 0.0, 0.0, 0.0]\n",
    "max_values = [33.0, 456.0, 12472.0, 12112.0, 11816.0, 12208.0, 3537.0]\n",
    "\n",
    "means = np.array([12.563786043752913, 117.29941220911088, 447.64719382044086, 595.8620172472806, 535.3712012658714, 1806.29808204889, 920.1094782110865])\n",
    "stds = np.array([3.5185324647403644, 80.96723830709035, 470.13904303313586, 464.48946732700625, 476.7811733893084, 1034.8480903358773, 387.2689357063178])\n",
    "\n",
    "transforms = torch.nn.Sequential(\n",
    "    K.Normalize(means.astype(float), stds.astype(float))\n",
    "    ,MinMaxClamp(min=list(-np.ones(7)) , max=list(np.ones(7)))\n",
    "    ,MinMaxScale(list(-np.ones(7)), list(np.ones(7)))\n",
    "        )\n",
    "\n",
    "# Training\n",
    "train= RasterDataset(root_list=training_sites)\n",
    "sampler = RandomBatchGeoSampler(train, size=batch, length=2500, batch_size = batch)\n",
    "train_dataloader = DataLoader(train, num_workers = 6, batch_sampler=sampler, collate_fn=stack_samples)\n",
    "\n",
    "# Validation\n",
    "val = RasterDataset(root_list=val_sites)\n",
    "sampler = RandomBatchGeoSampler(val, size=64, length=500, batch_size = batch)\n",
    "val_dataloader = DataLoader(val, num_workers = 6, batch_sampler=sampler, collate_fn=stack_samples)\n",
    "\n",
    "model = UNet(n_channels =7, n_classes=1).cuda()\n",
    "optimizer = Adam(model.parameters(), learning_rate)"
   ]
  },
  {
   "cell_type": "code",
   "execution_count": 58,
   "id": "42610a16",
   "metadata": {},
   "outputs": [
    {
     "name": "stderr",
     "output_type": "stream",
     "text": [
      "100%|███████████████████████████████████████████████████████████████████████████████████| 78/78 [00:22<00:00,  3.46it/s]\n"
     ]
    },
    {
     "name": "stdout",
     "output_type": "stream",
     "text": [
      "Epoch 1 \t\t Training Precision: 0.0 \t\t Training Recall: 0.0\n",
      "Epoch 1 \t\t Training Loss: 0.16716576064339814 \t\t Validation Loss: 0.0261358638604482\n"
     ]
    },
    {
     "name": "stderr",
     "output_type": "stream",
     "text": [
      "100%|███████████████████████████████████████████████████████████████████████████████████| 78/78 [00:22<00:00,  3.50it/s]\n"
     ]
    },
    {
     "name": "stdout",
     "output_type": "stream",
     "text": [
      "Epoch 2 \t\t Training Precision: 0.11194490641355515 \t\t Training Recall: 0.04251333698630333\n",
      "Epoch 2 \t\t Training Loss: 0.14418531796680048 \t\t Validation Loss: 0.529345448811849\n"
     ]
    },
    {
     "name": "stderr",
     "output_type": "stream",
     "text": [
      "100%|███████████████████████████████████████████████████████████████████████████████████| 78/78 [00:22<00:00,  3.47it/s]\n"
     ]
    },
    {
     "name": "stdout",
     "output_type": "stream",
     "text": [
      "Epoch 3 \t\t Training Precision: 0.0396115742623806 \t\t Training Recall: 0.0007341484306380153\n",
      "Epoch 3 \t\t Training Loss: 0.11545070230913086 \t\t Validation Loss: 0.12739073435465495\n"
     ]
    },
    {
     "name": "stderr",
     "output_type": "stream",
     "text": [
      "100%|███████████████████████████████████████████████████████████████████████████████████| 78/78 [00:22<00:00,  3.53it/s]\n"
     ]
    },
    {
     "name": "stdout",
     "output_type": "stream",
     "text": [
      "Epoch 4 \t\t Training Precision: 0.12999171018600464 \t\t Training Recall: 0.00549875246360898\n",
      "Epoch 4 \t\t Training Loss: 0.10484350439256583 \t\t Validation Loss: 0.07295419375101725\n"
     ]
    },
    {
     "name": "stderr",
     "output_type": "stream",
     "text": [
      "100%|███████████████████████████████████████████████████████████████████████████████████| 78/78 [00:22<00:00,  3.43it/s]\n"
     ]
    },
    {
     "name": "stdout",
     "output_type": "stream",
     "text": [
      "Epoch 5 \t\t Training Precision: 0.10746052116155624 \t\t Training Recall: 0.010119310580193996\n",
      "Epoch 5 \t\t Training Loss: 0.11322158752964476 \t\t Validation Loss: 0.9273546854654948\n"
     ]
    },
    {
     "name": "stderr",
     "output_type": "stream",
     "text": [
      "100%|███████████████████████████████████████████████████████████████████████████████████| 78/78 [00:22<00:00,  3.50it/s]\n"
     ]
    },
    {
     "name": "stdout",
     "output_type": "stream",
     "text": [
      "Epoch 6 \t\t Training Precision: 0.14688336849212646 \t\t Training Recall: 0.01688324473798275\n",
      "Epoch 6 \t\t Training Loss: 0.10425192175003198 \t\t Validation Loss: 0.0904541810353597\n"
     ]
    },
    {
     "name": "stderr",
     "output_type": "stream",
     "text": [
      "100%|███████████████████████████████████████████████████████████████████████████████████| 78/78 [00:22<00:00,  3.44it/s]\n"
     ]
    },
    {
     "name": "stdout",
     "output_type": "stream",
     "text": [
      "Epoch 7 \t\t Training Precision: 0.1777363270521164 \t\t Training Recall: 0.047118183225393295\n",
      "Epoch 7 \t\t Training Loss: 0.11243662150958791 \t\t Validation Loss: 0.16472962697347004\n"
     ]
    },
    {
     "name": "stderr",
     "output_type": "stream",
     "text": [
      "100%|███████████████████████████████████████████████████████████████████████████████████| 78/78 [00:22<00:00,  3.44it/s]\n"
     ]
    },
    {
     "name": "stdout",
     "output_type": "stream",
     "text": [
      "Epoch 8 \t\t Training Precision: 0.239128977060318 \t\t Training Recall: 0.05390435829758644\n",
      "Epoch 8 \t\t Training Loss: 0.10310277820994648 \t\t Validation Loss: 0.08017230033874512\n"
     ]
    },
    {
     "name": "stderr",
     "output_type": "stream",
     "text": [
      "100%|███████████████████████████████████████████████████████████████████████████████████| 78/78 [00:21<00:00,  3.64it/s]\n"
     ]
    },
    {
     "name": "stdout",
     "output_type": "stream",
     "text": [
      "Epoch 9 \t\t Training Precision: 0.1976323276758194 \t\t Training Recall: 0.10189007222652435\n",
      "Epoch 9 \t\t Training Loss: 0.09725894189129274 \t\t Validation Loss: 0.8431798299153646\n"
     ]
    },
    {
     "name": "stderr",
     "output_type": "stream",
     "text": [
      "100%|███████████████████████████████████████████████████████████████████████████████████| 78/78 [00:22<00:00,  3.47it/s]\n"
     ]
    },
    {
     "name": "stdout",
     "output_type": "stream",
     "text": [
      "Epoch 10 \t\t Training Precision: 0.22924384474754333 \t\t Training Recall: 0.1575889140367508\n",
      "Epoch 10 \t\t Training Loss: 0.10086827239212699 \t\t Validation Loss: 0.09259182612101237\n"
     ]
    },
    {
     "name": "stderr",
     "output_type": "stream",
     "text": [
      "100%|███████████████████████████████████████████████████████████████████████████████████| 78/78 [00:22<00:00,  3.51it/s]\n"
     ]
    },
    {
     "name": "stdout",
     "output_type": "stream",
     "text": [
      "Epoch 11 \t\t Training Precision: 0.2553199529647827 \t\t Training Recall: 0.2355341613292694\n",
      "Epoch 11 \t\t Training Loss: 0.09742368284899455 \t\t Validation Loss: 0.14072367350260417\n"
     ]
    },
    {
     "name": "stderr",
     "output_type": "stream",
     "text": [
      "100%|███████████████████████████████████████████████████████████████████████████████████| 78/78 [00:21<00:00,  3.56it/s]\n"
     ]
    },
    {
     "name": "stdout",
     "output_type": "stream",
     "text": [
      "Epoch 12 \t\t Training Precision: 0.13124670088291168 \t\t Training Recall: 0.2298562079668045\n",
      "Epoch 12 \t\t Training Loss: 0.13439391733696446 \t\t Validation Loss: 0.5438240051269532\n"
     ]
    },
    {
     "name": "stderr",
     "output_type": "stream",
     "text": [
      "100%|███████████████████████████████████████████████████████████████████████████████████| 78/78 [00:21<00:00,  3.57it/s]\n"
     ]
    },
    {
     "name": "stdout",
     "output_type": "stream",
     "text": [
      "Epoch 13 \t\t Training Precision: 0.24900299310684204 \t\t Training Recall: 0.32806476950645447\n",
      "Epoch 13 \t\t Training Loss: 0.09543034456706104 \t\t Validation Loss: 0.10199124018351237\n"
     ]
    },
    {
     "name": "stderr",
     "output_type": "stream",
     "text": [
      "100%|███████████████████████████████████████████████████████████████████████████████████| 78/78 [00:22<00:00,  3.50it/s]\n"
     ]
    },
    {
     "name": "stdout",
     "output_type": "stream",
     "text": [
      "Epoch 14 \t\t Training Precision: 0.19722993671894073 \t\t Training Recall: 0.2915428876876831\n",
      "Epoch 14 \t\t Training Loss: 0.07832198631233321 \t\t Validation Loss: 0.18706254959106444\n"
     ]
    },
    {
     "name": "stderr",
     "output_type": "stream",
     "text": [
      "100%|███████████████████████████████████████████████████████████████████████████████████| 78/78 [00:21<00:00,  3.55it/s]\n"
     ]
    },
    {
     "name": "stdout",
     "output_type": "stream",
     "text": [
      "Epoch 15 \t\t Training Precision: 0.15189974009990692 \t\t Training Recall: 0.2888077199459076\n",
      "Epoch 15 \t\t Training Loss: 0.08559614525009425 \t\t Validation Loss: 0.4201101303100586\n"
     ]
    },
    {
     "name": "stderr",
     "output_type": "stream",
     "text": [
      "100%|███████████████████████████████████████████████████████████████████████████████████| 78/78 [00:22<00:00,  3.54it/s]\n"
     ]
    },
    {
     "name": "stdout",
     "output_type": "stream",
     "text": [
      "Epoch 16 \t\t Training Precision: 0.1527305394411087 \t\t Training Recall: 0.35221368074417114\n",
      "Epoch 16 \t\t Training Loss: 0.09318803177955441 \t\t Validation Loss: 0.1447843551635742\n"
     ]
    },
    {
     "name": "stderr",
     "output_type": "stream",
     "text": [
      "100%|███████████████████████████████████████████████████████████████████████████████████| 78/78 [00:22<00:00,  3.45it/s]\n"
     ]
    },
    {
     "name": "stdout",
     "output_type": "stream",
     "text": [
      "Epoch 17 \t\t Training Precision: 0.1852133423089981 \t\t Training Recall: 0.3462754189968109\n",
      "Epoch 17 \t\t Training Loss: 0.10037546503978471 \t\t Validation Loss: 0.22468379338582356\n"
     ]
    },
    {
     "name": "stderr",
     "output_type": "stream",
     "text": [
      "100%|███████████████████████████████████████████████████████████████████████████████████| 78/78 [00:22<00:00,  3.53it/s]\n"
     ]
    },
    {
     "name": "stdout",
     "output_type": "stream",
     "text": [
      "Epoch 18 \t\t Training Precision: 0.23975098133087158 \t\t Training Recall: 0.28471121191978455\n",
      "Epoch 18 \t\t Training Loss: 0.0822620161403066 \t\t Validation Loss: 0.10942944685618082\n"
     ]
    },
    {
     "name": "stderr",
     "output_type": "stream",
     "text": [
      "100%|███████████████████████████████████████████████████████████████████████████████████| 78/78 [00:22<00:00,  3.51it/s]\n"
     ]
    },
    {
     "name": "stdout",
     "output_type": "stream",
     "text": [
      "Epoch 19 \t\t Training Precision: 0.20298591256141663 \t\t Training Recall: 0.3390730619430542\n",
      "Epoch 19 \t\t Training Loss: 0.07477604236620931 \t\t Validation Loss: 0.08015375932057699\n"
     ]
    },
    {
     "name": "stderr",
     "output_type": "stream",
     "text": [
      "100%|███████████████████████████████████████████████████████████████████████████████████| 78/78 [00:21<00:00,  3.56it/s]\n"
     ]
    },
    {
     "name": "stdout",
     "output_type": "stream",
     "text": [
      "Epoch 20 \t\t Training Precision: 0.1454850435256958 \t\t Training Recall: 0.2615188956260681\n",
      "Epoch 20 \t\t Training Loss: 0.08186426220270686 \t\t Validation Loss: 0.32695808410644533\n"
     ]
    },
    {
     "name": "stderr",
     "output_type": "stream",
     "text": [
      "100%|███████████████████████████████████████████████████████████████████████████████████| 78/78 [00:22<00:00,  3.41it/s]\n"
     ]
    },
    {
     "name": "stdout",
     "output_type": "stream",
     "text": [
      "Epoch 21 \t\t Training Precision: 0.16116692125797272 \t\t Training Recall: 0.3040364980697632\n",
      "Epoch 21 \t\t Training Loss: 0.06847891181361121 \t\t Validation Loss: 0.36431582768758136\n"
     ]
    },
    {
     "name": "stderr",
     "output_type": "stream",
     "text": [
      "100%|███████████████████████████████████████████████████████████████████████████████████| 78/78 [00:22<00:00,  3.43it/s]\n"
     ]
    },
    {
     "name": "stdout",
     "output_type": "stream",
     "text": [
      "Epoch 22 \t\t Training Precision: 0.18354158103466034 \t\t Training Recall: 0.30300644040107727\n",
      "Epoch 22 \t\t Training Loss: 0.08803762970731044 \t\t Validation Loss: 0.2067230542500814\n"
     ]
    },
    {
     "name": "stderr",
     "output_type": "stream",
     "text": [
      "100%|███████████████████████████████████████████████████████████████████████████████████| 78/78 [00:22<00:00,  3.51it/s]\n"
     ]
    },
    {
     "name": "stdout",
     "output_type": "stream",
     "text": [
      "Epoch 23 \t\t Training Precision: 0.12261295318603516 \t\t Training Recall: 0.20625083148479462\n",
      "Epoch 23 \t\t Training Loss: 0.058990678835051276 \t\t Validation Loss: 0.26523284912109374\n"
     ]
    },
    {
     "name": "stderr",
     "output_type": "stream",
     "text": [
      "100%|███████████████████████████████████████████████████████████████████████████████████| 78/78 [00:22<00:00,  3.52it/s]\n"
     ]
    },
    {
     "name": "stdout",
     "output_type": "stream",
     "text": [
      "Epoch 24 \t\t Training Precision: 0.17419806122779846 \t\t Training Recall: 0.35362350940704346\n",
      "Epoch 24 \t\t Training Loss: 0.0741760570418615 \t\t Validation Loss: 0.12586626211802165\n"
     ]
    },
    {
     "name": "stderr",
     "output_type": "stream",
     "text": [
      "100%|███████████████████████████████████████████████████████████████████████████████████| 78/78 [00:22<00:00,  3.47it/s]\n"
     ]
    },
    {
     "name": "stdout",
     "output_type": "stream",
     "text": [
      "Epoch 25 \t\t Training Precision: 0.17298869788646698 \t\t Training Recall: 0.25915956497192383\n",
      "Epoch 25 \t\t Training Loss: 0.05663609357240299 \t\t Validation Loss: 0.07130006154378256\n"
     ]
    },
    {
     "name": "stderr",
     "output_type": "stream",
     "text": [
      "100%|███████████████████████████████████████████████████████████████████████████████████| 78/78 [00:22<00:00,  3.53it/s]\n"
     ]
    },
    {
     "name": "stdout",
     "output_type": "stream",
     "text": [
      "Epoch 26 \t\t Training Precision: 0.2713715136051178 \t\t Training Recall: 0.3193003237247467\n",
      "Epoch 26 \t\t Training Loss: 0.06796764440309161 \t\t Validation Loss: 0.5060656547546387\n"
     ]
    },
    {
     "name": "stderr",
     "output_type": "stream",
     "text": [
      "100%|███████████████████████████████████████████████████████████████████████████████████| 78/78 [00:21<00:00,  3.66it/s]\n"
     ]
    },
    {
     "name": "stdout",
     "output_type": "stream",
     "text": [
      "Epoch 27 \t\t Training Precision: 0.17086732387542725 \t\t Training Recall: 0.39600205421447754\n",
      "Epoch 27 \t\t Training Loss: 0.07630035687739459 \t\t Validation Loss: 0.3097798029581706\n"
     ]
    },
    {
     "name": "stderr",
     "output_type": "stream",
     "text": [
      "100%|███████████████████████████████████████████████████████████████████████████████████| 78/78 [00:22<00:00,  3.47it/s]\n"
     ]
    },
    {
     "name": "stdout",
     "output_type": "stream",
     "text": [
      "Epoch 28 \t\t Training Precision: 0.12887461483478546 \t\t Training Recall: 0.2710379660129547\n",
      "Epoch 28 \t\t Training Loss: 0.057363321306183934 \t\t Validation Loss: 0.0936514695485433\n"
     ]
    },
    {
     "name": "stderr",
     "output_type": "stream",
     "text": [
      "100%|███████████████████████████████████████████████████████████████████████████████████| 78/78 [00:21<00:00,  3.55it/s]\n"
     ]
    },
    {
     "name": "stdout",
     "output_type": "stream",
     "text": [
      "Epoch 29 \t\t Training Precision: 0.15711189806461334 \t\t Training Recall: 0.33622702956199646\n",
      "Epoch 29 \t\t Training Loss: 0.05861314858357685 \t\t Validation Loss: 0.6577601114908854\n"
     ]
    },
    {
     "name": "stderr",
     "output_type": "stream",
     "text": [
      "100%|███████████████████████████████████████████████████████████████████████████████████| 78/78 [00:22<00:00,  3.53it/s]\n"
     ]
    },
    {
     "name": "stdout",
     "output_type": "stream",
     "text": [
      "Epoch 30 \t\t Training Precision: 0.1830345243215561 \t\t Training Recall: 0.3570154309272766\n",
      "Epoch 30 \t\t Training Loss: 0.06052519404030859 \t\t Validation Loss: 0.3009442965189616\n"
     ]
    },
    {
     "name": "stderr",
     "output_type": "stream",
     "text": [
      "100%|███████████████████████████████████████████████████████████████████████████████████| 78/78 [00:22<00:00,  3.53it/s]\n"
     ]
    },
    {
     "name": "stdout",
     "output_type": "stream",
     "text": [
      "Epoch 31 \t\t Training Precision: 0.18252697587013245 \t\t Training Recall: 0.30378350615501404\n",
      "Epoch 31 \t\t Training Loss: 0.07434452305703114 \t\t Validation Loss: 0.1717756748199463\n"
     ]
    },
    {
     "name": "stderr",
     "output_type": "stream",
     "text": [
      "100%|███████████████████████████████████████████████████████████████████████████████████| 78/78 [00:21<00:00,  3.59it/s]\n"
     ]
    },
    {
     "name": "stdout",
     "output_type": "stream",
     "text": [
      "Epoch 32 \t\t Training Precision: 0.19582492113113403 \t\t Training Recall: 0.3384735584259033\n",
      "Epoch 32 \t\t Training Loss: 0.07610162145768602 \t\t Validation Loss: 0.09964521725972493\n"
     ]
    },
    {
     "name": "stderr",
     "output_type": "stream",
     "text": [
      "100%|███████████████████████████████████████████████████████████████████████████████████| 78/78 [00:22<00:00,  3.54it/s]\n"
     ]
    },
    {
     "name": "stdout",
     "output_type": "stream",
     "text": [
      "Epoch 33 \t\t Training Precision: 0.21996115148067474 \t\t Training Recall: 0.37116315960884094\n",
      "Epoch 33 \t\t Training Loss: 0.08003375395678748 \t\t Validation Loss: 1.1761549631754558\n"
     ]
    },
    {
     "name": "stderr",
     "output_type": "stream",
     "text": [
      "100%|███████████████████████████████████████████████████████████████████████████████████| 78/78 [00:21<00:00,  3.58it/s]\n"
     ]
    },
    {
     "name": "stdout",
     "output_type": "stream",
     "text": [
      "Epoch 34 \t\t Training Precision: 0.18351732194423676 \t\t Training Recall: 0.31454887986183167\n",
      "Epoch 34 \t\t Training Loss: 0.06857902654715312 \t\t Validation Loss: 0.18602689107259116\n"
     ]
    },
    {
     "name": "stderr",
     "output_type": "stream",
     "text": [
      "100%|███████████████████████████████████████████████████████████████████████████████████| 78/78 [00:22<00:00,  3.52it/s]\n"
     ]
    },
    {
     "name": "stdout",
     "output_type": "stream",
     "text": [
      "Epoch 35 \t\t Training Precision: 0.1943276822566986 \t\t Training Recall: 0.38874542713165283\n",
      "Epoch 35 \t\t Training Loss: 0.043120583546204634 \t\t Validation Loss: 0.3787517547607422\n"
     ]
    },
    {
     "name": "stderr",
     "output_type": "stream",
     "text": [
      "100%|███████████████████████████████████████████████████████████████████████████████████| 78/78 [00:22<00:00,  3.50it/s]\n"
     ]
    },
    {
     "name": "stdout",
     "output_type": "stream",
     "text": [
      "Epoch 36 \t\t Training Precision: 0.18311463296413422 \t\t Training Recall: 0.3935256898403168\n",
      "Epoch 36 \t\t Training Loss: 0.051373233766450234 \t\t Validation Loss: 0.10750683148701985\n"
     ]
    },
    {
     "name": "stderr",
     "output_type": "stream",
     "text": [
      "100%|███████████████████████████████████████████████████████████████████████████████████| 78/78 [00:21<00:00,  3.65it/s]\n"
     ]
    },
    {
     "name": "stdout",
     "output_type": "stream",
     "text": [
      "Epoch 37 \t\t Training Precision: 0.1730591505765915 \t\t Training Recall: 0.35542166233062744\n",
      "Epoch 37 \t\t Training Loss: 0.09407358304955639 \t\t Validation Loss: 0.09539594650268554\n"
     ]
    },
    {
     "name": "stderr",
     "output_type": "stream",
     "text": [
      "100%|███████████████████████████████████████████████████████████████████████████████████| 78/78 [00:22<00:00,  3.44it/s]\n"
     ]
    },
    {
     "name": "stdout",
     "output_type": "stream",
     "text": [
      "Epoch 38 \t\t Training Precision: 0.15287740528583527 \t\t Training Recall: 0.3405613303184509\n",
      "Epoch 38 \t\t Training Loss: 0.06176315212192444 \t\t Validation Loss: 0.04337342977523804\n"
     ]
    },
    {
     "name": "stderr",
     "output_type": "stream",
     "text": [
      "100%|███████████████████████████████████████████████████████████████████████████████████| 78/78 [00:22<00:00,  3.53it/s]\n"
     ]
    },
    {
     "name": "stdout",
     "output_type": "stream",
     "text": [
      "Epoch 39 \t\t Training Precision: 0.20309360325336456 \t\t Training Recall: 0.4518621563911438\n",
      "Epoch 39 \t\t Training Loss: 0.05277983807863142 \t\t Validation Loss: 0.276132074991862\n"
     ]
    },
    {
     "name": "stderr",
     "output_type": "stream",
     "text": [
      "100%|███████████████████████████████████████████████████████████████████████████████████| 78/78 [00:22<00:00,  3.49it/s]\n"
     ]
    },
    {
     "name": "stdout",
     "output_type": "stream",
     "text": [
      "Epoch 40 \t\t Training Precision: 0.17752531170845032 \t\t Training Recall: 0.34098950028419495\n",
      "Epoch 40 \t\t Training Loss: 0.05554455726180608 \t\t Validation Loss: 0.7064639409383138\n"
     ]
    },
    {
     "name": "stderr",
     "output_type": "stream",
     "text": [
      "100%|███████████████████████████████████████████████████████████████████████████████████| 78/78 [00:22<00:00,  3.52it/s]\n"
     ]
    },
    {
     "name": "stdout",
     "output_type": "stream",
     "text": [
      "Epoch 41 \t\t Training Precision: 0.16529367864131927 \t\t Training Recall: 0.4369957447052002\n",
      "Epoch 41 \t\t Training Loss: 0.09943701466545463 \t\t Validation Loss: 0.19701655705769858\n"
     ]
    },
    {
     "name": "stderr",
     "output_type": "stream",
     "text": [
      "100%|███████████████████████████████████████████████████████████████████████████████████| 78/78 [00:22<00:00,  3.50it/s]\n"
     ]
    },
    {
     "name": "stdout",
     "output_type": "stream",
     "text": [
      "Epoch 42 \t\t Training Precision: 0.2362101674079895 \t\t Training Recall: 0.4106706976890564\n",
      "Epoch 42 \t\t Training Loss: 0.04767991666299983 \t\t Validation Loss: 0.09834278424580892\n"
     ]
    },
    {
     "name": "stderr",
     "output_type": "stream",
     "text": [
      "100%|███████████████████████████████████████████████████████████████████████████████████| 78/78 [00:22<00:00,  3.47it/s]\n"
     ]
    },
    {
     "name": "stdout",
     "output_type": "stream",
     "text": [
      "Epoch 43 \t\t Training Precision: 0.1993006318807602 \t\t Training Recall: 0.3435472846031189\n",
      "Epoch 43 \t\t Training Loss: 0.06727248727857398 \t\t Validation Loss: 0.3710014343261719\n"
     ]
    },
    {
     "name": "stderr",
     "output_type": "stream",
     "text": [
      "100%|███████████████████████████████████████████████████████████████████████████████████| 78/78 [00:22<00:00,  3.50it/s]\n"
     ]
    },
    {
     "name": "stdout",
     "output_type": "stream",
     "text": [
      "Epoch 44 \t\t Training Precision: 0.21960808336734772 \t\t Training Recall: 0.40993279218673706\n",
      "Epoch 44 \t\t Training Loss: 0.0432361763340827 \t\t Validation Loss: 0.3918507893880208\n"
     ]
    },
    {
     "name": "stderr",
     "output_type": "stream",
     "text": [
      "100%|███████████████████████████████████████████████████████████████████████████████████| 78/78 [00:21<00:00,  3.59it/s]\n"
     ]
    },
    {
     "name": "stdout",
     "output_type": "stream",
     "text": [
      "Epoch 45 \t\t Training Precision: 0.15894511342048645 \t\t Training Recall: 0.29047107696533203\n",
      "Epoch 45 \t\t Training Loss: 0.06944442743089241 \t\t Validation Loss: 0.5675175984700521\n"
     ]
    },
    {
     "name": "stderr",
     "output_type": "stream",
     "text": [
      "100%|███████████████████████████████████████████████████████████████████████████████████| 78/78 [00:22<00:00,  3.49it/s]\n"
     ]
    },
    {
     "name": "stdout",
     "output_type": "stream",
     "text": [
      "Epoch 46 \t\t Training Precision: 0.21027132868766785 \t\t Training Recall: 0.4064227342605591\n",
      "Epoch 46 \t\t Training Loss: 0.05584438165458731 \t\t Validation Loss: 0.1262340545654297\n"
     ]
    },
    {
     "name": "stderr",
     "output_type": "stream",
     "text": [
      "100%|███████████████████████████████████████████████████████████████████████████████████| 78/78 [00:21<00:00,  3.61it/s]\n"
     ]
    },
    {
     "name": "stdout",
     "output_type": "stream",
     "text": [
      "Epoch 47 \t\t Training Precision: 0.15675808489322662 \t\t Training Recall: 0.37511685490608215\n",
      "Epoch 47 \t\t Training Loss: 0.07125706117874823 \t\t Validation Loss: 1.0854802449544272\n"
     ]
    },
    {
     "name": "stderr",
     "output_type": "stream",
     "text": [
      "100%|███████████████████████████████████████████████████████████████████████████████████| 78/78 [00:21<00:00,  3.59it/s]\n"
     ]
    },
    {
     "name": "stdout",
     "output_type": "stream",
     "text": [
      "Epoch 48 \t\t Training Precision: 0.2033202052116394 \t\t Training Recall: 0.4168616235256195\n",
      "Epoch 48 \t\t Training Loss: 0.06552434291165227 \t\t Validation Loss: 0.20721160570780436\n"
     ]
    },
    {
     "name": "stderr",
     "output_type": "stream",
     "text": [
      "100%|███████████████████████████████████████████████████████████████████████████████████| 78/78 [00:21<00:00,  3.61it/s]\n"
     ]
    },
    {
     "name": "stdout",
     "output_type": "stream",
     "text": [
      "Epoch 49 \t\t Training Precision: 0.21280154585838318 \t\t Training Recall: 0.4665311872959137\n",
      "Epoch 49 \t\t Training Loss: 0.05857525998651862 \t\t Validation Loss: 0.1732622464497884\n"
     ]
    },
    {
     "name": "stderr",
     "output_type": "stream",
     "text": [
      "100%|███████████████████████████████████████████████████████████████████████████████████| 78/78 [00:22<00:00,  3.53it/s]\n"
     ]
    },
    {
     "name": "stdout",
     "output_type": "stream",
     "text": [
      "Epoch 50 \t\t Training Precision: 0.17086336016654968 \t\t Training Recall: 0.37453845143318176\n",
      "Epoch 50 \t\t Training Loss: 0.057951519588151805 \t\t Validation Loss: 0.25233422915140785\n"
     ]
    },
    {
     "name": "stderr",
     "output_type": "stream",
     "text": [
      "100%|███████████████████████████████████████████████████████████████████████████████████| 78/78 [00:22<00:00,  3.49it/s]\n"
     ]
    },
    {
     "name": "stdout",
     "output_type": "stream",
     "text": [
      "Epoch 51 \t\t Training Precision: 0.18191905319690704 \t\t Training Recall: 0.3390320837497711\n",
      "Epoch 51 \t\t Training Loss: 0.055756838932537876 \t\t Validation Loss: 0.2256346384684245\n"
     ]
    },
    {
     "name": "stderr",
     "output_type": "stream",
     "text": [
      "100%|███████████████████████████████████████████████████████████████████████████████████| 78/78 [00:22<00:00,  3.52it/s]\n"
     ]
    },
    {
     "name": "stdout",
     "output_type": "stream",
     "text": [
      "Epoch 52 \t\t Training Precision: 0.24467316269874573 \t\t Training Recall: 0.4579291343688965\n",
      "Epoch 52 \t\t Training Loss: 0.05788733691383058 \t\t Validation Loss: 0.08118712107340495\n"
     ]
    },
    {
     "name": "stderr",
     "output_type": "stream",
     "text": [
      "100%|███████████████████████████████████████████████████████████████████████████████████| 78/78 [00:22<00:00,  3.45it/s]\n"
     ]
    },
    {
     "name": "stdout",
     "output_type": "stream",
     "text": [
      "Epoch 53 \t\t Training Precision: 0.2566927671432495 \t\t Training Recall: 0.46173620223999023\n",
      "Epoch 53 \t\t Training Loss: 0.05545254482123523 \t\t Validation Loss: 0.12951205571492513\n"
     ]
    },
    {
     "name": "stderr",
     "output_type": "stream",
     "text": [
      "100%|███████████████████████████████████████████████████████████████████████████████████| 78/78 [00:22<00:00,  3.49it/s]\n"
     ]
    },
    {
     "name": "stdout",
     "output_type": "stream",
     "text": [
      "Epoch 54 \t\t Training Precision: 0.17356783151626587 \t\t Training Recall: 0.4958062767982483\n",
      "Epoch 54 \t\t Training Loss: 0.05553228157357527 \t\t Validation Loss: 0.19040966033935547\n"
     ]
    },
    {
     "name": "stderr",
     "output_type": "stream",
     "text": [
      "100%|███████████████████████████████████████████████████████████████████████████████████| 78/78 [00:22<00:00,  3.52it/s]\n"
     ]
    },
    {
     "name": "stdout",
     "output_type": "stream",
     "text": [
      "Epoch 55 \t\t Training Precision: 0.26324909925460815 \t\t Training Recall: 0.4238959550857544\n",
      "Epoch 55 \t\t Training Loss: 0.034963072825354546 \t\t Validation Loss: 1.0392393747965494\n"
     ]
    },
    {
     "name": "stderr",
     "output_type": "stream",
     "text": [
      "100%|███████████████████████████████████████████████████████████████████████████████████| 78/78 [00:21<00:00,  3.59it/s]\n"
     ]
    },
    {
     "name": "stdout",
     "output_type": "stream",
     "text": [
      "Epoch 56 \t\t Training Precision: 0.20392534136772156 \t\t Training Recall: 0.41116973757743835\n",
      "Epoch 56 \t\t Training Loss: 0.05680611426345049 \t\t Validation Loss: 0.28813530604044596\n"
     ]
    },
    {
     "name": "stderr",
     "output_type": "stream",
     "text": [
      "100%|███████████████████████████████████████████████████████████████████████████████████| 78/78 [00:21<00:00,  3.58it/s]\n"
     ]
    },
    {
     "name": "stdout",
     "output_type": "stream",
     "text": [
      "Epoch 57 \t\t Training Precision: 0.15229007601737976 \t\t Training Recall: 0.273554265499115\n",
      "Epoch 57 \t\t Training Loss: 0.07167092323279342 \t\t Validation Loss: 0.3411186854044596\n"
     ]
    },
    {
     "name": "stderr",
     "output_type": "stream",
     "text": [
      "100%|███████████████████████████████████████████████████████████████████████████████████| 78/78 [00:22<00:00,  3.41it/s]\n"
     ]
    },
    {
     "name": "stdout",
     "output_type": "stream",
     "text": [
      "Epoch 58 \t\t Training Precision: 0.2214212715625763 \t\t Training Recall: 0.3213267922401428\n",
      "Epoch 58 \t\t Training Loss: 0.052819566401199274 \t\t Validation Loss: 0.6928558985392252\n"
     ]
    },
    {
     "name": "stderr",
     "output_type": "stream",
     "text": [
      "100%|███████████████████████████████████████████████████████████████████████████████████| 78/78 [00:22<00:00,  3.52it/s]\n"
     ]
    },
    {
     "name": "stdout",
     "output_type": "stream",
     "text": [
      "Epoch 59 \t\t Training Precision: 0.21731401979923248 \t\t Training Recall: 0.4492979347705841\n",
      "Epoch 59 \t\t Training Loss: 0.06160985022777309 \t\t Validation Loss: 0.6204067230224609\n"
     ]
    },
    {
     "name": "stderr",
     "output_type": "stream",
     "text": [
      "100%|███████████████████████████████████████████████████████████████████████████████████| 78/78 [00:22<00:00,  3.48it/s]\n"
     ]
    },
    {
     "name": "stdout",
     "output_type": "stream",
     "text": [
      "Epoch 60 \t\t Training Precision: 0.18651561439037323 \t\t Training Recall: 0.3260612487792969\n",
      "Epoch 60 \t\t Training Loss: 0.05084127442051585 \t\t Validation Loss: 0.21286012331644694\n"
     ]
    },
    {
     "name": "stderr",
     "output_type": "stream",
     "text": [
      "100%|███████████████████████████████████████████████████████████████████████████████████| 78/78 [00:22<00:00,  3.43it/s]\n"
     ]
    },
    {
     "name": "stdout",
     "output_type": "stream",
     "text": [
      "Epoch 61 \t\t Training Precision: 0.1584033966064453 \t\t Training Recall: 0.3168790936470032\n",
      "Epoch 61 \t\t Training Loss: 0.048011772227115355 \t\t Validation Loss: 0.32634429931640624\n"
     ]
    },
    {
     "name": "stderr",
     "output_type": "stream",
     "text": [
      "100%|███████████████████████████████████████████████████████████████████████████████████| 78/78 [00:23<00:00,  3.35it/s]\n"
     ]
    },
    {
     "name": "stdout",
     "output_type": "stream",
     "text": [
      "Epoch 62 \t\t Training Precision: 0.2084951400756836 \t\t Training Recall: 0.43194541335105896\n",
      "Epoch 62 \t\t Training Loss: 0.040850394865115866 \t\t Validation Loss: 0.04049707253774007\n"
     ]
    },
    {
     "name": "stderr",
     "output_type": "stream",
     "text": [
      "100%|███████████████████████████████████████████████████████████████████████████████████| 78/78 [00:21<00:00,  3.59it/s]\n"
     ]
    },
    {
     "name": "stdout",
     "output_type": "stream",
     "text": [
      "Epoch 63 \t\t Training Precision: 0.18597890436649323 \t\t Training Recall: 0.3557403087615967\n",
      "Epoch 63 \t\t Training Loss: 0.05631605909170153 \t\t Validation Loss: 0.07303287188212076\n"
     ]
    },
    {
     "name": "stderr",
     "output_type": "stream",
     "text": [
      "100%|███████████████████████████████████████████████████████████████████████████████████| 78/78 [00:21<00:00,  3.58it/s]\n"
     ]
    },
    {
     "name": "stdout",
     "output_type": "stream",
     "text": [
      "Epoch 64 \t\t Training Precision: 0.21789702773094177 \t\t Training Recall: 0.4412444829940796\n",
      "Epoch 64 \t\t Training Loss: 0.04838969924439413 \t\t Validation Loss: 0.2238947868347168\n"
     ]
    },
    {
     "name": "stderr",
     "output_type": "stream",
     "text": [
      "100%|███████████████████████████████████████████████████████████████████████████████████| 78/78 [00:22<00:00,  3.47it/s]\n"
     ]
    },
    {
     "name": "stdout",
     "output_type": "stream",
     "text": [
      "Epoch 65 \t\t Training Precision: 0.19596758484840393 \t\t Training Recall: 0.5049648284912109\n",
      "Epoch 65 \t\t Training Loss: 0.04531591160533329 \t\t Validation Loss: 0.19752326011657714\n"
     ]
    },
    {
     "name": "stderr",
     "output_type": "stream",
     "text": [
      "100%|███████████████████████████████████████████████████████████████████████████████████| 78/78 [00:22<00:00,  3.50it/s]\n"
     ]
    },
    {
     "name": "stdout",
     "output_type": "stream",
     "text": [
      "Epoch 66 \t\t Training Precision: 0.22814498841762543 \t\t Training Recall: 0.5109469890594482\n",
      "Epoch 66 \t\t Training Loss: 0.03340219751669046 \t\t Validation Loss: 1.0754562377929688\n"
     ]
    },
    {
     "name": "stderr",
     "output_type": "stream",
     "text": [
      "100%|███████████████████████████████████████████████████████████████████████████████████| 78/78 [00:22<00:00,  3.48it/s]\n"
     ]
    },
    {
     "name": "stdout",
     "output_type": "stream",
     "text": [
      "Epoch 67 \t\t Training Precision: 0.20908373594284058 \t\t Training Recall: 0.44663864374160767\n",
      "Epoch 67 \t\t Training Loss: 0.038086875473173 \t\t Validation Loss: 0.3787985801696777\n"
     ]
    },
    {
     "name": "stderr",
     "output_type": "stream",
     "text": [
      "100%|███████████████████████████████████████████████████████████████████████████████████| 78/78 [00:22<00:00,  3.45it/s]\n"
     ]
    },
    {
     "name": "stdout",
     "output_type": "stream",
     "text": [
      "Epoch 68 \t\t Training Precision: 0.2358170598745346 \t\t Training Recall: 0.4836794137954712\n",
      "Epoch 68 \t\t Training Loss: 0.039465276846805446 \t\t Validation Loss: 0.03526821931203206\n"
     ]
    },
    {
     "name": "stderr",
     "output_type": "stream",
     "text": [
      "100%|███████████████████████████████████████████████████████████████████████████████████| 78/78 [00:22<00:00,  3.54it/s]\n"
     ]
    },
    {
     "name": "stdout",
     "output_type": "stream",
     "text": [
      "Epoch 69 \t\t Training Precision: 0.1759750097990036 \t\t Training Recall: 0.47541531920433044\n",
      "Epoch 69 \t\t Training Loss: 0.04714436138359209 \t\t Validation Loss: 0.6988135019938151\n"
     ]
    },
    {
     "name": "stderr",
     "output_type": "stream",
     "text": [
      "100%|███████████████████████████████████████████████████████████████████████████████████| 78/78 [00:22<00:00,  3.41it/s]\n"
     ]
    },
    {
     "name": "stdout",
     "output_type": "stream",
     "text": [
      "Epoch 70 \t\t Training Precision: 0.18331922590732574 \t\t Training Recall: 0.4363430142402649\n",
      "Epoch 70 \t\t Training Loss: 0.04341293005153346 \t\t Validation Loss: 0.0944566011428833\n"
     ]
    },
    {
     "name": "stderr",
     "output_type": "stream",
     "text": [
      "100%|███████████████████████████████████████████████████████████████████████████████████| 78/78 [00:22<00:00,  3.46it/s]\n"
     ]
    },
    {
     "name": "stdout",
     "output_type": "stream",
     "text": [
      "Epoch 71 \t\t Training Precision: 0.23294693231582642 \t\t Training Recall: 0.4267984628677368\n",
      "Epoch 71 \t\t Training Loss: 0.033796961061083354 \t\t Validation Loss: 0.25804939270019533\n"
     ]
    },
    {
     "name": "stderr",
     "output_type": "stream",
     "text": [
      "100%|███████████████████████████████████████████████████████████████████████████████████| 78/78 [00:22<00:00,  3.50it/s]\n"
     ]
    },
    {
     "name": "stdout",
     "output_type": "stream",
     "text": [
      "Epoch 72 \t\t Training Precision: 0.2868979871273041 \t\t Training Recall: 0.4694077968597412\n",
      "Epoch 72 \t\t Training Loss: 0.034683731583078414 \t\t Validation Loss: 0.23103262583414713\n"
     ]
    },
    {
     "name": "stderr",
     "output_type": "stream",
     "text": [
      "100%|███████████████████████████████████████████████████████████████████████████████████| 78/78 [00:22<00:00,  3.49it/s]\n"
     ]
    },
    {
     "name": "stdout",
     "output_type": "stream",
     "text": [
      "Epoch 73 \t\t Training Precision: 0.19506487250328064 \t\t Training Recall: 0.49780043959617615\n",
      "Epoch 73 \t\t Training Loss: 0.04891348948690276 \t\t Validation Loss: 0.5858858744303386\n"
     ]
    },
    {
     "name": "stderr",
     "output_type": "stream",
     "text": [
      "100%|███████████████████████████████████████████████████████████████████████████████████| 78/78 [00:22<00:00,  3.46it/s]\n"
     ]
    },
    {
     "name": "stdout",
     "output_type": "stream",
     "text": [
      "Epoch 74 \t\t Training Precision: 0.21533042192459106 \t\t Training Recall: 0.3503105938434601\n",
      "Epoch 74 \t\t Training Loss: 0.034827868343713 \t\t Validation Loss: 0.5591309865315756\n"
     ]
    },
    {
     "name": "stderr",
     "output_type": "stream",
     "text": [
      "100%|███████████████████████████████████████████████████████████████████████████████████| 78/78 [00:22<00:00,  3.51it/s]\n"
     ]
    },
    {
     "name": "stdout",
     "output_type": "stream",
     "text": [
      "Epoch 75 \t\t Training Precision: 0.22004733979701996 \t\t Training Recall: 0.4192829132080078\n",
      "Epoch 75 \t\t Training Loss: 0.0438779758152146 \t\t Validation Loss: 2.2657508850097656\n"
     ]
    },
    {
     "name": "stderr",
     "output_type": "stream",
     "text": [
      "100%|███████████████████████████████████████████████████████████████████████████████████| 78/78 [00:21<00:00,  3.55it/s]\n"
     ]
    },
    {
     "name": "stdout",
     "output_type": "stream",
     "text": [
      "Epoch 76 \t\t Training Precision: 0.17590373754501343 \t\t Training Recall: 0.41689056158065796\n",
      "Epoch 76 \t\t Training Loss: 0.05353371321390837 \t\t Validation Loss: 0.2054291248321533\n"
     ]
    },
    {
     "name": "stderr",
     "output_type": "stream",
     "text": [
      "100%|███████████████████████████████████████████████████████████████████████████████████| 78/78 [00:22<00:00,  3.40it/s]\n"
     ]
    },
    {
     "name": "stdout",
     "output_type": "stream",
     "text": [
      "Epoch 77 \t\t Training Precision: 0.1699099987745285 \t\t Training Recall: 0.3654232919216156\n",
      "Epoch 77 \t\t Training Loss: 0.04041769014647565 \t\t Validation Loss: 0.807611083984375\n"
     ]
    },
    {
     "name": "stderr",
     "output_type": "stream",
     "text": [
      "100%|███████████████████████████████████████████████████████████████████████████████████| 78/78 [00:22<00:00,  3.40it/s]\n"
     ]
    },
    {
     "name": "stdout",
     "output_type": "stream",
     "text": [
      "Epoch 78 \t\t Training Precision: 0.19580884277820587 \t\t Training Recall: 0.3872981369495392\n",
      "Epoch 78 \t\t Training Loss: 0.04682925843651621 \t\t Validation Loss: 0.5779810587565104\n"
     ]
    },
    {
     "name": "stderr",
     "output_type": "stream",
     "text": [
      "100%|███████████████████████████████████████████████████████████████████████████████████| 78/78 [00:22<00:00,  3.43it/s]\n"
     ]
    },
    {
     "name": "stdout",
     "output_type": "stream",
     "text": [
      "Epoch 79 \t\t Training Precision: 0.16932065784931183 \t\t Training Recall: 0.32264745235443115\n",
      "Epoch 79 \t\t Training Loss: 0.045832138911534384 \t\t Validation Loss: 0.9485929489135743\n"
     ]
    },
    {
     "name": "stderr",
     "output_type": "stream",
     "text": [
      "100%|███████████████████████████████████████████████████████████████████████████████████| 78/78 [00:22<00:00,  3.44it/s]\n"
     ]
    },
    {
     "name": "stdout",
     "output_type": "stream",
     "text": [
      "Epoch 80 \t\t Training Precision: 0.164333313703537 \t\t Training Recall: 0.38477152585983276\n",
      "Epoch 80 \t\t Training Loss: 0.0413489451405043 \t\t Validation Loss: 0.2935265858968099\n"
     ]
    },
    {
     "name": "stderr",
     "output_type": "stream",
     "text": [
      "100%|███████████████████████████████████████████████████████████████████████████████████| 78/78 [00:23<00:00,  3.37it/s]\n"
     ]
    },
    {
     "name": "stdout",
     "output_type": "stream",
     "text": [
      "Epoch 81 \t\t Training Precision: 0.16015318036079407 \t\t Training Recall: 0.33487847447395325\n",
      "Epoch 81 \t\t Training Loss: 0.03914419472074279 \t\t Validation Loss: 0.8516042073567708\n"
     ]
    },
    {
     "name": "stderr",
     "output_type": "stream",
     "text": [
      "100%|███████████████████████████████████████████████████████████████████████████████████| 78/78 [00:22<00:00,  3.52it/s]\n"
     ]
    },
    {
     "name": "stdout",
     "output_type": "stream",
     "text": [
      "Epoch 82 \t\t Training Precision: 0.2250848412513733 \t\t Training Recall: 0.4212954640388489\n",
      "Epoch 82 \t\t Training Loss: 0.03464323002845049 \t\t Validation Loss: 1.6373863220214844\n"
     ]
    },
    {
     "name": "stderr",
     "output_type": "stream",
     "text": [
      "100%|███████████████████████████████████████████████████████████████████████████████████| 78/78 [00:22<00:00,  3.51it/s]\n"
     ]
    },
    {
     "name": "stdout",
     "output_type": "stream",
     "text": [
      "Epoch 83 \t\t Training Precision: 0.24417263269424438 \t\t Training Recall: 0.4821929931640625\n",
      "Epoch 83 \t\t Training Loss: 0.03321799917224174 \t\t Validation Loss: 0.06717214584350586\n"
     ]
    },
    {
     "name": "stderr",
     "output_type": "stream",
     "text": [
      "100%|███████████████████████████████████████████████████████████████████████████████████| 78/78 [00:22<00:00,  3.46it/s]\n"
     ]
    },
    {
     "name": "stdout",
     "output_type": "stream",
     "text": [
      "Epoch 84 \t\t Training Precision: 0.16098544001579285 \t\t Training Recall: 0.26736703515052795\n",
      "Epoch 84 \t\t Training Loss: 0.04951271740421175 \t\t Validation Loss: 0.020456159114837648\n"
     ]
    },
    {
     "name": "stderr",
     "output_type": "stream",
     "text": [
      "100%|███████████████████████████████████████████████████████████████████████████████████| 78/78 [00:21<00:00,  3.61it/s]\n"
     ]
    },
    {
     "name": "stdout",
     "output_type": "stream",
     "text": [
      "Epoch 85 \t\t Training Precision: 0.16221113502979279 \t\t Training Recall: 0.26981309056282043\n",
      "Epoch 85 \t\t Training Loss: 0.04283401526761456 \t\t Validation Loss: 0.2744632085164388\n"
     ]
    },
    {
     "name": "stderr",
     "output_type": "stream",
     "text": [
      "100%|███████████████████████████████████████████████████████████████████████████████████| 78/78 [00:22<00:00,  3.44it/s]\n"
     ]
    },
    {
     "name": "stdout",
     "output_type": "stream",
     "text": [
      "Epoch 86 \t\t Training Precision: 0.2288980334997177 \t\t Training Recall: 0.4468635618686676\n",
      "Epoch 86 \t\t Training Loss: 0.04004512023992646 \t\t Validation Loss: 1.256894048055013\n"
     ]
    },
    {
     "name": "stderr",
     "output_type": "stream",
     "text": [
      "100%|███████████████████████████████████████████████████████████████████████████████████| 78/78 [00:22<00:00,  3.46it/s]\n"
     ]
    },
    {
     "name": "stdout",
     "output_type": "stream",
     "text": [
      "Epoch 87 \t\t Training Precision: 0.24915842711925507 \t\t Training Recall: 0.47437217831611633\n",
      "Epoch 87 \t\t Training Loss: 0.0293195476092828 \t\t Validation Loss: 0.3224253972371419\n"
     ]
    },
    {
     "name": "stderr",
     "output_type": "stream",
     "text": [
      "100%|███████████████████████████████████████████████████████████████████████████████████| 78/78 [00:21<00:00,  3.57it/s]\n"
     ]
    },
    {
     "name": "stdout",
     "output_type": "stream",
     "text": [
      "Epoch 88 \t\t Training Precision: 0.19072899222373962 \t\t Training Recall: 0.4382214844226837\n",
      "Epoch 88 \t\t Training Loss: 0.04642897718347227 \t\t Validation Loss: 0.1073042631149292\n"
     ]
    },
    {
     "name": "stderr",
     "output_type": "stream",
     "text": [
      "100%|███████████████████████████████████████████████████████████████████████████████████| 78/78 [00:21<00:00,  3.57it/s]\n"
     ]
    },
    {
     "name": "stdout",
     "output_type": "stream",
     "text": [
      "Epoch 89 \t\t Training Precision: 0.2280244678258896 \t\t Training Recall: 0.43686988949775696\n",
      "Epoch 89 \t\t Training Loss: 0.046218979879855536 \t\t Validation Loss: 0.08605738480885823\n"
     ]
    },
    {
     "name": "stderr",
     "output_type": "stream",
     "text": [
      "100%|███████████████████████████████████████████████████████████████████████████████████| 78/78 [00:22<00:00,  3.49it/s]\n"
     ]
    },
    {
     "name": "stdout",
     "output_type": "stream",
     "text": [
      "Epoch 90 \t\t Training Precision: 0.14308513700962067 \t\t Training Recall: 0.31868380308151245\n",
      "Epoch 90 \t\t Training Loss: 0.03922780917193263 \t\t Validation Loss: 0.3255123774210612\n"
     ]
    },
    {
     "name": "stderr",
     "output_type": "stream",
     "text": [
      "100%|███████████████████████████████████████████████████████████████████████████████████| 78/78 [00:22<00:00,  3.48it/s]\n"
     ]
    },
    {
     "name": "stdout",
     "output_type": "stream",
     "text": [
      "Epoch 91 \t\t Training Precision: 0.2107185423374176 \t\t Training Recall: 0.5251472592353821\n",
      "Epoch 91 \t\t Training Loss: 0.03709413018973114 \t\t Validation Loss: 0.10304077466328938\n"
     ]
    },
    {
     "name": "stderr",
     "output_type": "stream",
     "text": [
      "100%|███████████████████████████████████████████████████████████████████████████████████| 78/78 [00:22<00:00,  3.51it/s]\n"
     ]
    },
    {
     "name": "stdout",
     "output_type": "stream",
     "text": [
      "Epoch 92 \t\t Training Precision: 0.1937739998102188 \t\t Training Recall: 0.4527796804904938\n",
      "Epoch 92 \t\t Training Loss: 0.0460912568303637 \t\t Validation Loss: 0.03358325163523356\n"
     ]
    },
    {
     "name": "stderr",
     "output_type": "stream",
     "text": [
      "100%|███████████████████████████████████████████████████████████████████████████████████| 78/78 [00:22<00:00,  3.52it/s]\n"
     ]
    },
    {
     "name": "stdout",
     "output_type": "stream",
     "text": [
      "Epoch 93 \t\t Training Precision: 0.23132136464118958 \t\t Training Recall: 0.45961377024650574\n",
      "Epoch 93 \t\t Training Loss: 0.046763916416332506 \t\t Validation Loss: 0.2962896982828776\n"
     ]
    },
    {
     "name": "stderr",
     "output_type": "stream",
     "text": [
      "100%|███████████████████████████████████████████████████████████████████████████████████| 78/78 [00:21<00:00,  3.56it/s]\n"
     ]
    },
    {
     "name": "stdout",
     "output_type": "stream",
     "text": [
      "Epoch 94 \t\t Training Precision: 0.20884394645690918 \t\t Training Recall: 0.4697324335575104\n",
      "Epoch 94 \t\t Training Loss: 0.03385412390045344 \t\t Validation Loss: 0.02819210688273112\n"
     ]
    },
    {
     "name": "stderr",
     "output_type": "stream",
     "text": [
      "100%|███████████████████████████████████████████████████████████████████████████████████| 78/78 [00:22<00:00,  3.49it/s]\n"
     ]
    },
    {
     "name": "stdout",
     "output_type": "stream",
     "text": [
      "Epoch 95 \t\t Training Precision: 0.18845735490322113 \t\t Training Recall: 0.41204243898391724\n",
      "Epoch 95 \t\t Training Loss: 0.03688751892425502 \t\t Validation Loss: 0.3511728922526042\n"
     ]
    },
    {
     "name": "stderr",
     "output_type": "stream",
     "text": [
      "100%|███████████████████████████████████████████████████████████████████████████████████| 78/78 [00:22<00:00,  3.50it/s]\n"
     ]
    },
    {
     "name": "stdout",
     "output_type": "stream",
     "text": [
      "Epoch 96 \t\t Training Precision: 0.23027858138084412 \t\t Training Recall: 0.47105199098587036\n",
      "Epoch 96 \t\t Training Loss: 0.036960033467039466 \t\t Validation Loss: 0.057699910799662274\n"
     ]
    },
    {
     "name": "stderr",
     "output_type": "stream",
     "text": [
      "100%|███████████████████████████████████████████████████████████████████████████████████| 78/78 [00:22<00:00,  3.44it/s]\n"
     ]
    },
    {
     "name": "stdout",
     "output_type": "stream",
     "text": [
      "Epoch 97 \t\t Training Precision: 0.18032234907150269 \t\t Training Recall: 0.374733030796051\n",
      "Epoch 97 \t\t Training Loss: 0.031609436407542 \t\t Validation Loss: 1.5773660024007161\n"
     ]
    },
    {
     "name": "stderr",
     "output_type": "stream",
     "text": [
      "100%|███████████████████████████████████████████████████████████████████████████████████| 78/78 [00:22<00:00,  3.51it/s]\n"
     ]
    },
    {
     "name": "stdout",
     "output_type": "stream",
     "text": [
      "Epoch 98 \t\t Training Precision: 0.22365160286426544 \t\t Training Recall: 0.5731419324874878\n",
      "Epoch 98 \t\t Training Loss: 0.04987319054093976 \t\t Validation Loss: 0.020278888940811157\n"
     ]
    },
    {
     "name": "stderr",
     "output_type": "stream",
     "text": [
      "100%|███████████████████████████████████████████████████████████████████████████████████| 78/78 [00:22<00:00,  3.50it/s]\n"
     ]
    },
    {
     "name": "stdout",
     "output_type": "stream",
     "text": [
      "Epoch 99 \t\t Training Precision: 0.24630047380924225 \t\t Training Recall: 0.4752441942691803\n",
      "Epoch 99 \t\t Training Loss: 0.02442226007592697 \t\t Validation Loss: 0.026770553986231484\n"
     ]
    },
    {
     "name": "stderr",
     "output_type": "stream",
     "text": [
      "100%|███████████████████████████████████████████████████████████████████████████████████| 78/78 [00:22<00:00,  3.52it/s]\n"
     ]
    },
    {
     "name": "stdout",
     "output_type": "stream",
     "text": [
      "Epoch 100 \t\t Training Precision: 0.19921784102916718 \t\t Training Recall: 0.4369370937347412\n",
      "Epoch 100 \t\t Training Loss: 0.040703945055914424 \t\t Validation Loss: 0.2915247599283854\n"
     ]
    }
   ],
   "source": [
    "import matplotlib.pyplot as plt\n",
    "torch.cuda.empty_cache()\n",
    "writer = SummaryWriter()\n",
    "for e in range(num_epochs):\n",
    "    train_loss = 0.0\n",
    "    total_precision = 0\n",
    "    total_recall = 0 \n",
    "    count = 0\n",
    "    for sample in tqdm(train_dataloader):\n",
    "        data = sample[\"image\"]\n",
    "        labels = data[:,0,:,:]\n",
    "        img = data[:,1:,:,:]\n",
    "        \n",
    "        img = transforms(img.float())\n",
    "        #print(img)\n",
    "        \n",
    "#         red = img[0,4,:,:]\n",
    "#         green = img[0,3,:,:]\n",
    "#         blue = img[0,2,:,:]\n",
    "#         rgb = torch.stack((red, green, blue), dim=2)\n",
    "#         plt.imshow(rgb.float())\n",
    "#         plt.show()\n",
    "\n",
    "        weights = class_weight.compute_class_weight(class_weight = 'balanced', classes = np.unique(labels.numpy().flatten()), y= labels.numpy().flatten())\n",
    "        weights = weights * np.array([1, 0.2])\n",
    "        weight_matrix = np.empty((labels.shape[0],labels.shape[1],labels.shape[2]))\n",
    "        for i in range(labels.shape[0]):\n",
    "            for j in range(labels.shape[1]):\n",
    "                for g in range(labels.shape[2]):\n",
    "                    weight_matrix[i , j , g] = weights[labels[i,j,g]]\n",
    "                        \n",
    "        labels, img = labels.cuda(), img.cuda()\n",
    "        \n",
    "        pred = torch.squeeze(model(img.float())).cuda()\n",
    "\n",
    "        loss = BCELoss(weight = torch.Tensor(weight_matrix).cuda())\n",
    "        output = loss(torch.reshape(pred,labels.size()), labels.float())        \n",
    "\n",
    "        optimizer.zero_grad()\n",
    "        output.backward()\n",
    "        optimizer.step()\n",
    "        train_loss += output.item()\n",
    "    \n",
    "        # 0.5 treshhold\n",
    "        precision, recall = precision_recall(pred, labels)\n",
    "        total_precision += precision\n",
    "        total_recall += recall\n",
    "        \n",
    "    valid_loss = 0.0\n",
    "    model.eval()\n",
    "    for val_sample in val_dataloader:\n",
    "        val_loss = BCELoss()\n",
    "        val_data = val_sample[\"image\"]\n",
    "        val_labels = val_data[:,0,:,:]\n",
    "        val_img = val_data[:,1:,:,:]\n",
    "        \n",
    "        val_img = transforms(val_img.float())\n",
    "        \n",
    "        val_labels, val_img = val_labels.cuda(), val_img.cuda()\n",
    "        \n",
    "        val_pred = model(val_img.float()).cuda()\n",
    "        val_output = val_loss(torch.squeeze(val_pred), val_labels.float())\n",
    "        valid_loss = val_output.item() * val_data.size(0)\n",
    "    \n",
    "    writer.add_scalar('loss/train', train_loss/len(train_dataloader), e)\n",
    "    writer.add_scalar('recall/train', total_recall / len(train_dataloader), e)\n",
    "    writer.add_scalar('precision/train', total_precision / len(train_dataloader), e)\n",
    "    print(f'Epoch {e+1} \\t\\t Training Precision: {total_precision / len(train_dataloader)} \\t\\t Training Recall: {total_recall / len(train_dataloader)}')\n",
    "    print(f'Epoch {e+1} \\t\\t Training Loss: {train_loss / len(train_dataloader)} \\t\\t Validation Loss: {valid_loss / len(val_dataloader)}')"
   ]
  },
  {
   "cell_type": "code",
   "execution_count": 22,
   "id": "55ab82be",
   "metadata": {},
   "outputs": [],
   "source": [
    "# save model\n",
    "model_name = 'herschel_unvalidated'\n",
    "save_path = '../models/' + model_name\n",
    "torch.save(model.state_dict(), save_path)"
   ]
  },
  {
   "cell_type": "code",
   "execution_count": null,
   "id": "1eb2a38c",
   "metadata": {},
   "outputs": [],
   "source": []
  }
 ],
 "metadata": {
  "kernelspec": {
   "display_name": "Python 3 (ipykernel)",
   "language": "python",
   "name": "python3"
  },
  "language_info": {
   "codemirror_mode": {
    "name": "ipython",
    "version": 3
   },
   "file_extension": ".py",
   "mimetype": "text/x-python",
   "name": "python",
   "nbconvert_exporter": "python",
   "pygments_lexer": "ipython3",
   "version": "3.10.5"
  }
 },
 "nbformat": 4,
 "nbformat_minor": 5
}
