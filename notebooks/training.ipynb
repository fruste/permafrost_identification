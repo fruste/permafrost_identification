{
 "cells": [
  {
   "cell_type": "code",
   "execution_count": 1,
   "id": "c849a2fd",
   "metadata": {},
   "outputs": [],
   "source": [
    "import torch\n",
    "import dataset\n",
    "import numpy as np\n",
    "from tqdm import tqdm\n",
    "from torch.utils.data import DataLoader\n",
    "from torch.optim import SGD\n",
    "from torch.nn import BCELoss\n",
    "from unet_model import UNet\n",
    "from torchgeo.samplers import RandomGeoSampler\n",
    "from torchgeo.datasets import Sentinel2,RasterDataset, stack_samples\n",
    "from torch.utils.tensorboard import SummaryWriter"
   ]
  },
  {
   "cell_type": "code",
   "execution_count": 2,
   "id": "e3d79df1",
   "metadata": {},
   "outputs": [],
   "source": [
    "# def experiment(test_site):\n",
    "#     training_sites = ['herschel', 'horton', 'kolguev', 'lena', 'unvalidated']\n",
    "#     training_sites.remove(test_site)\n",
    "    \n",
    "#     training_data = dataset.Permafrost(training_sites)\n",
    "#     test_data = dataset.Permafrost([test_site])\n",
    "#     return test_data, training_data\n",
    "\n",
    "# test_data, training_data = experiment('herschel')"
   ]
  },
  {
   "cell_type": "code",
   "execution_count": 18,
   "id": "adb44abd",
   "metadata": {},
   "outputs": [],
   "source": [
    "num_epochs = 100\n",
    "learning_rate = 0.01\n",
    "\n",
    "train= RasterDataset(root='../all_data/unvalidated')\n",
    "sampler = RandomGeoSampler(train, size=32, length=100)\n",
    "train_dataloader = DataLoader(train, num_workers = 4, sampler=sampler, collate_fn=stack_samples)\n",
    "\n",
    "val = RasterDataset(root='../all_data/lena')\n",
    "sampler = RandomGeoSampler(val, size=32, length=10)\n",
    "val_dataloader = DataLoader(val, num_workers = 4, sampler=sampler, collate_fn=stack_samples)\n",
    "\n",
    "model = UNet(n_channels =7, n_classes=1)\n",
    "optimizer = SGD(model.parameters(), learning_rate)"
   ]
  },
  {
   "cell_type": "code",
   "execution_count": null,
   "id": "42610a16",
   "metadata": {},
   "outputs": [
    {
     "name": "stdout",
     "output_type": "stream",
     "text": [
      "Epoch  0\n"
     ]
    },
    {
     "name": "stderr",
     "output_type": "stream",
     "text": [
      " 72%|███████████████████████████████████████████████████████████                       | 72/100 [00:05<00:02, 11.43it/s]"
     ]
    }
   ],
   "source": [
    "writer = SummaryWriter()\n",
    "for e in range(num_epochs):\n",
    "    print(\"Epoch \", e)\n",
    "    train_loss = 0.0\n",
    "    for sample in tqdm(train_dataloader):\n",
    "        data = sample[\"image\"]\n",
    "        labels = data[:,0,:,:]\n",
    "        img = data[:,1:,:,:]\n",
    "        pred = model(img.float())\n",
    "        loss = BCELoss()\n",
    "        \n",
    "        output = loss(torch.reshape(pred, (1,32,32)), labels.float())\n",
    "        writer.add_scalar(\"Loss/train\", output, epoch)\n",
    "        \n",
    "        optimizer.zero_grad()\n",
    "        optimizer.step()\n",
    "        train_loss += output.item()\n",
    "    \n",
    "    valid_loss = 0.0\n",
    "    model.eval()     # Optional when not using Model Specific layer\n",
    "    for val_sample in val_dataloader:\n",
    "#         if torch.cuda.is_available():\n",
    "#             data, labels = data.cuda(), labels.cuda()\n",
    "        val_data = val_sample[\"image\"]\n",
    "        val_labels = val_data[:,0,:,:]\n",
    "        val_img = val_data[:,1:,:,:]\n",
    "        \n",
    "        val_pred = model(val_img.float())\n",
    "        val_output = loss(torch.reshape(val_pred, (1,32,32)), val_labels.float())\n",
    "        valid_loss = val_output.item() * val_data.size(0)\n",
    "\n",
    "    print(f'Epoch {e+1} \\t\\t Training Loss: {train_loss / len(train_dataloader)} \\t\\t Validation Loss: {valid_loss / len(val_dataloader)}')"
   ]
  },
  {
   "cell_type": "code",
   "execution_count": null,
   "id": "ab1b96d6",
   "metadata": {},
   "outputs": [],
   "source": [
    "from torchgeo.models import resnet50\n",
    "\n",
    "model = resnet50()"
   ]
  }
 ],
 "metadata": {
  "kernelspec": {
   "display_name": "Python 3 (ipykernel)",
   "language": "python",
   "name": "python3"
  },
  "language_info": {
   "codemirror_mode": {
    "name": "ipython",
    "version": 3
   },
   "file_extension": ".py",
   "mimetype": "text/x-python",
   "name": "python",
   "nbconvert_exporter": "python",
   "pygments_lexer": "ipython3",
   "version": "3.9.13"
  }
 },
 "nbformat": 4,
 "nbformat_minor": 5
}
